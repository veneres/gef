{
 "cells": [
  {
   "cell_type": "code",
   "execution_count": null,
   "outputs": [],
   "source": [
    "from matplotlib import pyplot as plt\n",
    "from matplotlib.lines import Line2D\n",
    "import seaborn as sns\n",
    "from tqdm.notebook import tqdm\n",
    "import numpy as np\n",
    "import pandas as pd\n",
    "from math import comb\n",
    "import pickle\n",
    "from sklearn.preprocessing import OneHotEncoder, LabelEncoder\n",
    "from sklearn.compose import ColumnTransformer\n",
    "import shap\n",
    "%load_ext autoreload\n",
    "%autoreload 2"
   ],
   "metadata": {
    "collapsed": false,
    "pycharm": {
     "name": "#%%\n"
    }
   }
  },
  {
   "cell_type": "code",
   "execution_count": null,
   "outputs": [],
   "source": [
    "plt.rcParams['text.usetex'] = False"
   ],
   "metadata": {
    "collapsed": false,
    "pycharm": {
     "name": "#%%\n"
    }
   }
  },
  {
   "cell_type": "markdown",
   "source": [
    "# Read the dataset"
   ],
   "metadata": {
    "collapsed": false,
    "pycharm": {
     "name": "#%% md\n"
    }
   }
  },
  {
   "cell_type": "markdown",
   "source": [
    "Before reading the dataset, dowload it using:\n",
    "```\n",
    "./dowload_data.sh\n",
    "```"
   ],
   "metadata": {
    "collapsed": false,
    "pycharm": {
     "name": "#%% md\n"
    }
   }
  },
  {
   "cell_type": "code",
   "execution_count": null,
   "outputs": [],
   "source": [
    "col_names = [\"age\", \"workclass\", \"fnlwgt\", \"education\", \"education-num\", \"marital-status\", \"occupation\", \"relationship\",\n",
    "             \"race\", \"sex\", \"capital-gain\", \"capital-loss\", \"hours-per-week\", \"native-country\", \"class\"]\n",
    "df = pd.read_csv(\"adult.csv\", sep=\",\", header=None, names=col_names, index_col=False)"
   ],
   "metadata": {
    "collapsed": false,
    "pycharm": {
     "name": "#%%\n"
    }
   }
  },
  {
   "cell_type": "code",
   "execution_count": null,
   "outputs": [],
   "source": [
    "train = df.head(int(len(df) * 0.7))\n",
    "test = df.tail(len(df) - len(train))\n",
    "resp_var = \"class\"\n",
    "X_train = train.drop(resp_var, axis=1)\n",
    "y_train = train[resp_var]\n",
    "X_test = test.drop(resp_var, axis=1)\n",
    "y_test = test[resp_var]"
   ],
   "metadata": {
    "collapsed": false,
    "pycharm": {
     "name": "#%%\n"
    }
   }
  },
  {
   "cell_type": "code",
   "execution_count": null,
   "outputs": [],
   "source": [
    "final_cols = []\n",
    "categorical_feats = [\"workclass\", \"marital-status\", \"occupation\", \"relationship\", \"race\", \"sex\", \"native-country\"]\n",
    "to_drop = [\"education\"]\n",
    "transformers = []\n",
    "for column in X_train.columns:\n",
    "    name = column\n",
    "    trans = \"passthrough\"\n",
    "    if column in categorical_feats:\n",
    "        trans = OneHotEncoder()\n",
    "        name = f\"{column}_class\"\n",
    "    elif column in to_drop:\n",
    "        trans = \"drop\"\n",
    "\n",
    "    transformers.append((name, trans, [f\"{column}\"]))\n",
    "\n",
    "    if trans != \"drop\":\n",
    "        final_cols.append(column)\n",
    "ct = ColumnTransformer(transformers, remainder=\"passthrough\")\n",
    "ct.fit(X_train)\n",
    "# Encoder for the labels\n",
    "le = LabelEncoder()\n",
    "le.fit(y_train)"
   ],
   "metadata": {
    "collapsed": false,
    "pycharm": {
     "name": "#%%\n"
    }
   }
  },
  {
   "cell_type": "code",
   "execution_count": null,
   "outputs": [],
   "source": [
    "X_train_trans = ct.transform(X_train)\n",
    "X_test_trans = ct.transform(X_test)\n",
    "y_train_trans = le.transform(y_train)\n",
    "y_test_trans = le.transform(y_test)"
   ],
   "metadata": {
    "collapsed": false,
    "pycharm": {
     "name": "#%%\n"
    }
   }
  },
  {
   "cell_type": "markdown",
   "source": [
    "# Feature selection"
   ],
   "metadata": {
    "collapsed": false,
    "pycharm": {
     "name": "#%% md\n"
    }
   }
  },
  {
   "cell_type": "markdown",
   "source": [
    "## Feature selection"
   ],
   "metadata": {
    "collapsed": false,
    "pycharm": {
     "name": "#%% md\n"
    }
   }
  },
  {
   "cell_type": "markdown",
   "source": [
    "To compute the results run:\n",
    "```\n",
    "python forest_train.py\n",
    "python feat_selection.py\n",
    "```"
   ],
   "metadata": {
    "collapsed": false,
    "pycharm": {
     "name": "#%% md\n"
    }
   }
  },
  {
   "cell_type": "code",
   "execution_count": null,
   "outputs": [],
   "source": [
    "range_n_splines = range(1, 11)\n",
    "range_n_inter = range(0, 9)"
   ],
   "metadata": {
    "collapsed": false,
    "pycharm": {
     "name": "#%%\n"
    }
   }
  },
  {
   "cell_type": "code",
   "execution_count": null,
   "outputs": [],
   "source": [
    "acc = np.load(\"precomputed/feat_selection.npy\")"
   ],
   "metadata": {
    "collapsed": false,
    "pycharm": {
     "name": "#%%\n"
    }
   }
  },
  {
   "cell_type": "code",
   "execution_count": null,
   "outputs": [],
   "source": [
    "dimension = (len(range_n_splines), len(range_n_inter))\n",
    "mask = np.zeros(dimension)\n",
    "for i, n_splines in enumerate(tqdm(range_n_splines)):\n",
    "    for j, n_inter in enumerate(range_n_inter):\n",
    "        if n_inter > comb(n_splines, 2):\n",
    "            mask[i, j] = True\n",
    "            continue"
   ],
   "metadata": {
    "collapsed": false,
    "pycharm": {
     "name": "#%%\n"
    }
   }
  },
  {
   "cell_type": "code",
   "execution_count": null,
   "outputs": [],
   "source": [
    "accuracy_df = pd.DataFrame(acc, columns=range_n_inter, index=range_n_splines)\n",
    "ax = sns.heatmap(accuracy_df, annot=True, mask=mask, cmap=sns.color_palette(\"Blues\", as_cmap=True),\n",
    "                 cbar_kws={'label': 'accuarcy'})\n",
    "ax.set_xlabel(\"Number of interaction terms used\")\n",
    "ax.set_ylabel(\"Number of splines used\")"
   ],
   "metadata": {
    "collapsed": false,
    "pycharm": {
     "name": "#%%\n"
    }
   }
  },
  {
   "cell_type": "markdown",
   "source": [
    "# Sampling strategy"
   ],
   "metadata": {
    "collapsed": false,
    "pycharm": {
     "name": "#%% md\n"
    }
   }
  },
  {
   "cell_type": "markdown",
   "source": [
    "To replicate the experiments run:\n",
    "```\n",
    "python forest_train.py\n",
    "python sampling_analysis.py\n",
    "```"
   ],
   "metadata": {
    "collapsed": false,
    "pycharm": {
     "name": "#%% md\n"
    }
   }
  },
  {
   "cell_type": "markdown",
   "source": [
    "## Setup"
   ],
   "metadata": {
    "collapsed": false,
    "pycharm": {
     "name": "#%% md\n"
    }
   }
  },
  {
   "cell_type": "code",
   "execution_count": null,
   "outputs": [],
   "source": [
    "sampling_methods = [\"all\", \"quantile\", \"equal\", \"kmeans\", \"equi_size\"]\n",
    "range_m = range(50, 5001, 250)"
   ],
   "metadata": {
    "collapsed": false,
    "pycharm": {
     "name": "#%%\n"
    }
   }
  },
  {
   "cell_type": "code",
   "execution_count": null,
   "outputs": [],
   "source": [
    "with open('precomputed/sampling_comparison.pickle', 'rb') as f:\n",
    "    acc_methods = pickle.load(f)"
   ],
   "metadata": {
    "collapsed": false,
    "pycharm": {
     "name": "#%%\n"
    }
   }
  },
  {
   "cell_type": "markdown",
   "source": [
    "## Plot"
   ],
   "metadata": {
    "collapsed": false,
    "pycharm": {
     "name": "#%% md\n"
    }
   }
  },
  {
   "cell_type": "code",
   "execution_count": null,
   "outputs": [],
   "source": [
    "labels = [r\"\\emph{All-Thresholds}\", r\"\\emph{Quantile}\", r\"\\emph{Equi-Width}\", r\"\\emph{$k$-Means}\", \"\\emph{Equi-Size}\"]\n",
    "colors = sns.color_palette(n_colors=len(sampling_methods))\n",
    "for i, sampling_method in enumerate(sampling_methods):\n",
    "    plt.plot(range_m, acc_methods[sampling_method], 'o--', color=colors[i], label=labels[i])\n",
    "plt.xlabel(\"$K$\")\n",
    "plt.ylabel(\"Accuracy\")\n",
    "plt.legend()"
   ],
   "metadata": {
    "collapsed": false,
    "pycharm": {
     "name": "#%%\n"
    }
   }
  },
  {
   "cell_type": "markdown",
   "source": [
    "# Global explanation"
   ],
   "metadata": {
    "collapsed": false,
    "pycharm": {
     "name": "#%% md\n"
    }
   }
  },
  {
   "cell_type": "markdown",
   "source": [
    "## GEF"
   ],
   "metadata": {
    "collapsed": false,
    "pycharm": {
     "name": "#%% md\n"
    }
   }
  },
  {
   "cell_type": "markdown",
   "source": [
    "To replicate the results run:\n",
    "```\n",
    "python forest_train.py\n",
    "python final_explainer.py\n",
    "```"
   ],
   "metadata": {
    "collapsed": false,
    "pycharm": {
     "name": "#%% md\n"
    }
   }
  },
  {
   "cell_type": "code",
   "execution_count": null,
   "outputs": [],
   "source": [
    "with open(\"precomputed/explainer.pickle\", \"rb\") as f:\n",
    "    explainer = pickle.load(f)"
   ],
   "metadata": {
    "collapsed": false,
    "pycharm": {
     "name": "#%%\n"
    }
   }
  },
  {
   "cell_type": "code",
   "execution_count": null,
   "outputs": [],
   "source": [
    "final_cols = ct.get_feature_names_out().copy()\n",
    "final_cols[14] = \"MS-Married\"\n",
    "final_cols[47] = \"CapitalGain\"\n",
    "final_cols[11] = \"EducationNum\"\n",
    "final_cols[0] = \"Age\""
   ],
   "metadata": {
    "collapsed": false,
    "pycharm": {
     "name": "#%%\n"
    }
   }
  },
  {
   "cell_type": "code",
   "execution_count": null,
   "outputs": [],
   "source": [
    "sample_index = 0\n",
    "sample = X_train_trans[sample_index].reshape(1, -1)"
   ],
   "metadata": {
    "collapsed": false,
    "pycharm": {
     "name": "#%%\n"
    }
   }
  },
  {
   "cell_type": "code",
   "execution_count": null,
   "outputs": [],
   "source": [
    "n_row, n_col = 2, 2\n",
    "\n",
    "fig = plt.figure(figsize=(13, 8), tight_layout=False)\n",
    "\n",
    "lines = []\n",
    "\n",
    "terms = [(i, x) for i, x in enumerate(explainer.gam.terms) if not x.isintercept and not x.istensor]\n",
    "terms.sort(key=lambda x: x[1].feature)\n",
    "c1, c2, c3 = sns.color_palette(n_colors=3)\n",
    "\n",
    "plot_index = 0\n",
    "axes = []\n",
    "for i, term in enumerate(explainer.gam.terms):\n",
    "    if plot_index == 4:\n",
    "        break\n",
    "    if term.isintercept or term.istensor:\n",
    "        continue\n",
    "\n",
    "    ax = fig.add_subplot(n_row, n_col, plot_index + 1, sharey = axes[-1] if plot_index % n_col != 0 else None)\n",
    "    plt.setp(ax.get_yticklabels(), visible=plot_index % n_col == 0)\n",
    "\n",
    "    ax.spines['right'].set_visible(False)\n",
    "    ax.spines['top'].set_visible(False)\n",
    "    print(term.feature)\n",
    "\n",
    "    # Spline print\n",
    "    grid = explainer.gam.generate_X_grid(term=i, meshgrid=term.istensor)\n",
    "    pdep, confi = explainer.gam.partial_dependence(term=i, X=grid, width=0.95, meshgrid=term.istensor)\n",
    "\n",
    "    conf_u = ax.plot(grid[:, term.feature], confi[:, 0], ls=\"--\", c=c2, zorder=1)\n",
    "    conf_l = ax.plot(grid[:, term.feature], confi[:, 1], label=\"95% width confidence interval\", ls=\"--\", c=c2, zorder=1)\n",
    "    l1 = ax.plot(grid[:, term.feature], pdep, label=\"Spline learned\", lw=2, c=c1, zorder=2)\n",
    "    ax.set_title(final_cols[term.feature])\n",
    "\n",
    "    # Print the sample\n",
    "    \"\"\"\n",
    "    x_point = sample[0, term.feature]  # col vector\n",
    "    y_point = explainer.gam.partial_dependence(term=i, X=sample)\n",
    "\n",
    "    plt.vlines(x_point, ax.get_ylim()[0], y_point, linestyle=\"dashed\", color=c3)\n",
    "    plt.hlines(y_point, ax.get_xlim()[0], x_point, linestyle=\"dashed\", color=c3)\n",
    "    ax.scatter(x_point, y_point, label=\"Sample under investigation\", color=c3, zorder=3)\n",
    "    \"\"\"\n",
    "\n",
    "    plot_index += 1\n",
    "    axes.append(ax)\n",
    "\n",
    "plt.subplots_adjust(hspace=0.3)\n",
    "file_out = \"plots/generators.pdf\"\n",
    "params = {'legend.fontsize': 18,\n",
    "          'figure.figsize': (20, 5),\n",
    "          'axes.titlesize': 18,\n",
    "          'xtick.labelsize': 20,\n",
    "          'ytick.labelsize': 20}\n",
    "plt.rcParams.update(params)\n",
    "plt.legend(loc='upper center', bbox_to_anchor=(-0.35, 2.7), ncol=3)\n",
    "plt.savefig(file_out)"
   ],
   "metadata": {
    "collapsed": false,
    "pycharm": {
     "name": "#%%\n"
    }
   }
  },
  {
   "cell_type": "markdown",
   "source": [
    "## SHAP"
   ],
   "metadata": {
    "collapsed": false,
    "pycharm": {
     "name": "#%% md\n"
    }
   }
  },
  {
   "cell_type": "markdown",
   "source": [
    "To replicate the results run:\n",
    "```\n",
    "python forest_train.py\n",
    "python compute_shap.py\n",
    "```"
   ],
   "metadata": {
    "collapsed": false,
    "pycharm": {
     "name": "#%% md\n"
    }
   }
  },
  {
   "cell_type": "markdown",
   "source": [
    "### Setup"
   ],
   "metadata": {
    "collapsed": false,
    "pycharm": {
     "name": "#%% md\n"
    }
   }
  },
  {
   "cell_type": "code",
   "execution_count": null,
   "outputs": [],
   "source": [
    "with open('precomputed/shap_values_training.pickle', 'rb') as f:\n",
    "    shap_values = pickle.load(f)\n",
    "with open('precomputed/shap_explainer_training.pickle', 'rb') as f:\n",
    "    shap_explainer = pickle.load(f)"
   ],
   "metadata": {
    "collapsed": false,
    "pycharm": {
     "name": "#%%\n"
    }
   }
  },
  {
   "cell_type": "markdown",
   "source": [
    "### Plot"
   ],
   "metadata": {
    "collapsed": false,
    "pycharm": {
     "name": "#%% md\n"
    }
   }
  },
  {
   "cell_type": "code",
   "execution_count": null,
   "outputs": [],
   "source": [
    "# visualize the first prediction's explanation\n",
    "shap.plots.force(shap_explainer.expected_value[1], shap_values.values[0, :, 1], matplotlib=True)"
   ],
   "metadata": {
    "collapsed": false,
    "pycharm": {
     "name": "#%%\n"
    }
   }
  },
  {
   "cell_type": "code",
   "execution_count": null,
   "outputs": [],
   "source": [
    "shap_values = shap_values[:, :, 1]"
   ],
   "metadata": {
    "collapsed": false,
    "pycharm": {
     "name": "#%%\n"
    }
   }
  },
  {
   "cell_type": "code",
   "execution_count": null,
   "outputs": [],
   "source": [
    "n_row, n_col = 2, 2\n",
    "\n",
    "fig = plt.figure(figsize=(13, 8))\n",
    "\n",
    "lines = []\n",
    "\n",
    "terms = [(i, x) for i, x in enumerate(explainer.gam.terms) if not x.isintercept and not x.istensor]\n",
    "terms.sort(key=lambda x: x[1].feature)\n",
    "c1, c2, c3 = sns.color_palette(n_colors=3)\n",
    "\n",
    "plot_index = 0\n",
    "axes = []\n",
    "for i, term in enumerate(explainer.gam.terms):\n",
    "    if plot_index == 4:\n",
    "        break\n",
    "    if term.isintercept or term.istensor:\n",
    "        continue\n",
    "\n",
    "    ax = fig.add_subplot(n_row, n_col, plot_index + 1, sharey = axes[-1] if plot_index % n_col != 0 else None)\n",
    "\n",
    "    # Shap scatter print\n",
    "    shap.plots.scatter(shap_values[:, term.feature], ax=ax, show=False, hist=False, color=c1)\n",
    "    shap_plot = ax\n",
    "    \n",
    "    plt.setp(ax.get_yticklabels(), visible=plot_index % n_col == 0)\n",
    "    ax.tick_params(labelsize=20)\n",
    "\n",
    "    ax.set_ylabel(\"\")\n",
    "    ax.set_xlabel(\"\")\n",
    "    ax.set_title(final_cols[term.feature])\n",
    "\n",
    "    # Print the sample\n",
    "    \"\"\"\n",
    "    x_point = shap_values[sample_index, term.feature].data\n",
    "    y_point = shap_values[sample_index, term.feature].values\n",
    "\n",
    "    plt.vlines(x_point, ax.get_ylim()[0], y_point, linestyle=\"dashed\", color=c2)\n",
    "    plt.hlines(y_point, ax.get_xlim()[0], x_point, linestyle=\"dashed\", color=c2)\n",
    "    sample_plot = ax.scatter(x_point, y_point, label=\"Sample under investigation\", color=c2, zorder=3)\n",
    "    \"\"\"\n",
    "\n",
    "    plot_index += 1\n",
    "    axes.append(ax)\n",
    "    \n",
    "params = {'legend.fontsize': 18,\n",
    "          'figure.figsize': (20, 5),\n",
    "          'axes.titlesize': 18}\n",
    "\n",
    "plt.rcParams.update(params)\n",
    "plt.subplots_adjust(hspace=0.3)\n",
    "file_out = \"plots/shap.pdf\"\n",
    "dummy_shap_plot = Line2D([0], [0], marker='o', color=c1, label='SHAP values', lw=0)\n",
    "plt.legend(handles=[dummy_shap_plot], loc='upper center', bbox_to_anchor=(-1.0, 2.7), ncol=3, fontsize=14)\n",
    "plt.savefig(file_out)"
   ],
   "metadata": {
    "collapsed": false,
    "pycharm": {
     "name": "#%%\n"
    }
   }
  },
  {
   "cell_type": "code",
   "execution_count": null,
   "outputs": [],
   "source": [],
   "metadata": {
    "collapsed": false,
    "pycharm": {
     "name": "#%%\n"
    }
   }
  }
 ],
 "metadata": {
  "kernelspec": {
   "display_name": "Python 3 (ipykernel)",
   "language": "python",
   "name": "python3"
  },
  "language_info": {
   "codemirror_mode": {
    "name": "ipython",
    "version": 3
   },
   "file_extension": ".py",
   "mimetype": "text/x-python",
   "name": "python",
   "nbconvert_exporter": "python",
   "pygments_lexer": "ipython3",
   "version": "3.9.12"
  }
 },
 "nbformat": 4,
 "nbformat_minor": 5
}