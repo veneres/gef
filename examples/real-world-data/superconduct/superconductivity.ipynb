{
 "cells": [
  {
   "cell_type": "code",
   "execution_count": null,
   "id": "517d1cb8",
   "metadata": {
    "pycharm": {
     "name": "#%%\n"
    }
   },
   "outputs": [],
   "source": [
    "from matplotlib import pyplot as plt\n",
    "from matplotlib.lines import Line2D\n",
    "import seaborn as sns\n",
    "from tqdm.notebook import tqdm\n",
    "import numpy as np\n",
    "import pandas as pd\n",
    "from math import comb\n",
    "import pickle\n",
    "from gamexplainer.utils import plot_local_all_terms\n",
    "import matplotlib.pyplot as plt\n",
    "import shap\n",
    "import lime\n",
    "import lime.lime_tabular\n",
    "import lightgbm as lgbm\n",
    "%load_ext autoreload\n",
    "%autoreload 2"
   ]
  },
  {
   "cell_type": "code",
   "execution_count": null,
   "id": "79deabf9",
   "metadata": {
    "pycharm": {
     "name": "#%%\n"
    }
   },
   "outputs": [],
   "source": [
    "plt.rcParams['text.usetex'] = True"
   ]
  },
  {
   "cell_type": "markdown",
   "id": "6c67d911",
   "metadata": {
    "pycharm": {
     "name": "#%% md\n"
    }
   },
   "source": [
    "### Feature selection"
   ]
  },
  {
   "cell_type": "markdown",
   "id": "ecba8b59",
   "metadata": {
    "pycharm": {
     "name": "#%% md\n"
    }
   },
   "source": [
    "To compute the results run:\n",
    "python forest_train.py\n",
    "python feat_selection.py"
   ]
  },
  {
   "cell_type": "markdown",
   "id": "9ea90438",
   "metadata": {
    "pycharm": {
     "name": "#%% md\n"
    }
   },
   "source": [
    "Load"
   ]
  },
  {
   "cell_type": "code",
   "execution_count": null,
   "id": "1574cc1f",
   "metadata": {
    "pycharm": {
     "name": "#%%\n"
    }
   },
   "outputs": [],
   "source": [
    "acc = np.load(\"precomputed/feat_selection_superconduct.npy\")"
   ]
  },
  {
   "cell_type": "markdown",
   "id": "3d9c07d5",
   "metadata": {
    "pycharm": {
     "name": "#%% md\n"
    }
   },
   "source": [
    "## Plot the results in a heatmap"
   ]
  },
  {
   "cell_type": "code",
   "execution_count": null,
   "id": "536975a9",
   "metadata": {
    "pycharm": {
     "name": "#%%\n"
    }
   },
   "outputs": [],
   "source": [
    "range_n_splines = range(1, 11) # copy and pasted ranges\n",
    "range_n_inter = range(0, 9) # copy and pasted ranges\n",
    "dimension = (len(range_n_splines), len(range_n_inter))\n",
    "mask = np.zeros(dimension)\n",
    "for i, n_splines in enumerate(tqdm(range_n_splines)):\n",
    "    for j, n_inter in enumerate(range_n_inter):\n",
    "        if n_inter > comb(n_splines, 2):\n",
    "            mask[i, j] = True \n",
    "            continue"
   ]
  },
  {
   "cell_type": "code",
   "execution_count": null,
   "id": "64d87ea7",
   "metadata": {
    "pycharm": {
     "name": "#%%\n"
    }
   },
   "outputs": [],
   "source": [
    "accuracy_df = pd.DataFrame(acc, columns=range_n_inter, index=range_n_splines)\n",
    "ax = sns.heatmap(accuracy_df, annot=True, mask = mask, cmap=sns.color_palette(\"Blues\", as_cmap=True), cbar_kws={'label': 'RMSE'})\n",
    "ax.set_xlabel(\"Number of interaction terms used\")\n",
    "ax.set_ylabel(\"Number of splines used\")\n",
    "file_out = \"plots/heatmap_splines_inter.pdf\"\n",
    "plt.savefig(file_out)"
   ]
  },
  {
   "cell_type": "markdown",
   "id": "5805c44b",
   "metadata": {
    "pycharm": {
     "name": "#%% md\n"
    }
   },
   "source": [
    "## Sampling strategy "
   ]
  },
  {
   "cell_type": "markdown",
   "id": "c40ca34f",
   "metadata": {
    "pycharm": {
     "name": "#%% md\n"
    }
   },
   "source": [
    "### Analyze the maximum number of splits per feature"
   ]
  },
  {
   "cell_type": "markdown",
   "id": "323a0133",
   "metadata": {
    "pycharm": {
     "name": "#%% md\n"
    }
   },
   "source": [
    "To replicate the experiments run:\n",
    "```\n",
    "python forest_train.py\n",
    "python sampling_analysis.py\n",
    "```"
   ]
  },
  {
   "cell_type": "markdown",
   "id": "9b333859",
   "metadata": {
    "pycharm": {
     "name": "#%% md\n"
    }
   },
   "source": [
    "### Setup"
   ]
  },
  {
   "cell_type": "code",
   "execution_count": null,
   "id": "7908b02a",
   "metadata": {
    "pycharm": {
     "name": "#%%\n"
    }
   },
   "outputs": [],
   "source": [
    "sampling_methods = [\"all\", \"quantile\", \"equal\", \"kmeans\", \"equi_size\"]\n",
    "range_m = range(50, 17000, 750)\n",
    "with open('precomputed/sampling_comparison.pickle', 'rb') as f:\n",
    "    acc_methods = pickle.load(f)"
   ]
  },
  {
   "cell_type": "markdown",
   "id": "ba90a28f",
   "metadata": {
    "pycharm": {
     "name": "#%% md\n"
    }
   },
   "source": [
    "### Plot"
   ]
  },
  {
   "cell_type": "code",
   "execution_count": null,
   "id": "411d0594",
   "metadata": {
    "pycharm": {
     "name": "#%%\n"
    }
   },
   "outputs": [],
   "source": [
    "labels = [r\"\\emph{All-Thresholds}\", r\"\\emph{Quantile}\", r\"\\emph{Equi-Width}\", r\"\\emph{$k$-Means}\", \"\\emph{Equi-Size}\"]\n",
    "colors = sns.color_palette(n_colors=len(sampling_methods))\n",
    "for i, sampling_method in enumerate(sampling_methods):\n",
    "    plt.plot(range_m, acc_methods[sampling_method], 'o--', color=colors[i], label=labels[i])\n",
    "plt.xlabel(\"$K$\")\n",
    "plt.ylabel(\"RMSE\")\n",
    "plt.legend()\n",
    "plt.grid(visible=True)\n",
    "file_out = \"plots/sampling_comparison.pdf\"\n",
    "plt.savefig(file_out)"
   ]
  },
  {
   "cell_type": "markdown",
   "id": "689cf36f",
   "metadata": {
    "pycharm": {
     "name": "#%% md\n"
    }
   },
   "source": [
    "## Global explanation with GEF"
   ]
  },
  {
   "cell_type": "markdown",
   "id": "490a31e8",
   "metadata": {
    "pycharm": {
     "name": "#%% md\n"
    }
   },
   "source": [
    "To replicate the results run:\n",
    "```\n",
    "python forest_train.py\n",
    "python final_explainer.py\n",
    "```"
   ]
  },
  {
   "cell_type": "code",
   "execution_count": null,
   "id": "f66c79f3",
   "metadata": {
    "pycharm": {
     "name": "#%%\n"
    }
   },
   "outputs": [],
   "source": [
    "with open(\"precomputed/explainer.pickle\", \"rb\") as f:\n",
    "    explainer = pickle.load(f)"
   ]
  },
  {
   "cell_type": "code",
   "execution_count": null,
   "id": "3e253739",
   "metadata": {
    "pycharm": {
     "name": "#%%\n"
    }
   },
   "outputs": [],
   "source": [
    "df = pd.read_csv(\"train.csv\", sep=\",\")\n",
    "train = df.head(int(len(df) * 0.7))\n",
    "test = df.tail(len(df) - len(train))\n",
    "resp_var = \"critical_temp\"\n",
    "X_train = train.drop(resp_var, axis=1)\n",
    "y_train = train[resp_var]\n",
    "X_test = test.drop(resp_var, axis=1)\n",
    "y_test = test[resp_var]"
   ]
  },
  {
   "cell_type": "markdown",
   "id": "b043671c",
   "metadata": {
    "pycharm": {
     "name": "#%% md\n"
    }
   },
   "source": [
    "## With sample highlighting"
   ]
  },
  {
   "cell_type": "code",
   "execution_count": null,
   "id": "8784f1a7",
   "metadata": {
    "pycharm": {
     "name": "#%%\n"
    }
   },
   "outputs": [],
   "source": [
    "feature_names_display = {i: feat for i, feat in enumerate(X_train.columns)}"
   ]
  },
  {
   "cell_type": "code",
   "execution_count": null,
   "id": "a6f511e9",
   "metadata": {
    "pycharm": {
     "name": "#%%\n"
    }
   },
   "outputs": [],
   "source": [
    "feature_names_display[6] = \"WEAM\"\n",
    "feature_names_display[62] = \"WMTC\"\n",
    "feature_names_display[70] = \"WSTC\"\n",
    "feature_names_display[76] = \"WEV\"\n",
    "feature_names_display[74] = \"WGV\"\n",
    "feature_names_display[9] = \"SAM\"\n",
    "feature_names_display[33] = \"GMD\"\n",
    "feature_names_display[64] = \"WGTC\"\n",
    "feature_names_display[44] = \"WGEA\"\n",
    "feature_names_display[72] = \"WMV\"\n",
    "feature_names_display[27] = \"RAR\"\n",
    "feature_names_display[80] = \"WSV\""
   ]
  },
  {
   "cell_type": "code",
   "execution_count": null,
   "id": "d2301405",
   "metadata": {
    "pycharm": {
     "name": "#%%\n"
    }
   },
   "outputs": [],
   "source": [
    "sample_index = 0\n",
    "sample = X_train.iloc[sample_index].values.reshape(1, -1)"
   ]
  },
  {
   "cell_type": "code",
   "execution_count": null,
   "id": "980b40c2",
   "metadata": {
    "pycharm": {
     "name": "#%%\n"
    }
   },
   "outputs": [],
   "source": [
    "n_row, n_col = 2, 3\n",
    "\n",
    "fig = plt.figure(figsize=(13, 10), tight_layout=False)\n",
    "\n",
    "lines = []\n",
    "\n",
    "terms = [(i, x) for i, x in enumerate(explainer.gam.terms) if not x.isintercept and not x.istensor]\n",
    "terms.sort(key=lambda x: x[1].feature)\n",
    "c1, c2, c3 = sns.color_palette(n_colors=3)\n",
    "\n",
    "plot_index = 0\n",
    "axes = []\n",
    "points = []\n",
    "for i, term in enumerate(explainer.gam.terms):\n",
    "    if i == 6:\n",
    "        break\n",
    "    if term.isintercept or term.istensor:\n",
    "        continue\n",
    "    \n",
    "    ax = fig.add_subplot(n_row, n_col, plot_index + 1, sharey = axes[-1] if plot_index % n_col != 0 else None)\n",
    "\n",
    "    plt.setp(ax.get_yticklabels(), visible=plot_index % n_col == 0)\n",
    "    \n",
    "    ax.spines['right'].set_visible(False)\n",
    "    ax.spines['top'].set_visible(False)\n",
    "        \n",
    "    \n",
    "    # Spline print\n",
    "    grid = explainer.gam.generate_X_grid(term=i, meshgrid=term.istensor)\n",
    "    pdep, confi = explainer.gam.partial_dependence(term=i, X=grid, width=0.95, meshgrid=term.istensor)\n",
    "  \n",
    "    conf_u = ax.plot(grid[:, term.feature], confi[:,0], ls=\"--\", c=c2, zorder=1)\n",
    "    conf_l = ax.plot(grid[:, term.feature], confi[:,1], label=\"95% width confidence interval\", ls=\"--\", c=c2, zorder=1)\n",
    "    l1 = ax.plot(grid[:, term.feature], pdep, label=\"Spline learned\", lw=2, c=c1, zorder=2)\n",
    "    ax.set_title(feature_names_display[term.feature])\n",
    "    \n",
    "    # Compute and save the points\n",
    "    x_point = sample[0, term.feature] # col vector\n",
    "    y_point = explainer.gam.partial_dependence(term=i, X=sample)\n",
    "    \n",
    "    points.append((x_point, y_point))\n",
    "  \n",
    "    \n",
    "    \n",
    "    plot_index +=1\n",
    "    axes.append(ax)\n",
    "\n",
    "# Find the minimum y for each row\n",
    "min_y_rows = (axes[0].get_ylim()[0], axes[3].get_ylim()[0])\n",
    "for i in range(3):\n",
    "    min_y_rows = (min(min_y_rows[0], axes[i].get_ylim()[0]), min(min_y_rows[0], axes[i + 3].get_ylim()[0]))\n",
    "\n",
    "# Plot the points\n",
    "for i, (ax, (x_point, y_point)) in enumerate(zip(axes, points)):\n",
    "    ax.vlines(x_point, min_y_rows[i // 3], y_point, linestyle=\"dashed\", color=\"black\")\n",
    "    ax.hlines(y_point, ax.get_xlim()[0], x_point, linestyle=\"dashed\", color=\"black\")\n",
    "    ax.scatter(x_point, y_point, label=\"Sample under investigation\", color=\"black\", zorder=3)\n",
    "\n",
    "\n",
    "params = {'legend.fontsize': 18,\n",
    "          'figure.figsize': (20, 5),\n",
    "          'axes.titlesize': 18,\n",
    "          'xtick.labelsize': 18,\n",
    "          'ytick.labelsize': 18}\n",
    "plt.rcParams.update(params)\n",
    "\n",
    "file_out = \"plots/global_gef.pdf\"\n",
    "plt.legend(loc='upper center', bbox_to_anchor=(-0.7, 2.5), ncol=3)\n",
    "plt.savefig(file_out)"
   ]
  },
  {
   "cell_type": "markdown",
   "id": "74581061",
   "metadata": {
    "pycharm": {
     "name": "#%% md\n"
    }
   },
   "source": [
    "## Global SHAP"
   ]
  },
  {
   "cell_type": "markdown",
   "id": "6699a9ce",
   "metadata": {
    "pycharm": {
     "name": "#%% md\n"
    }
   },
   "source": [
    "### Setup"
   ]
  },
  {
   "cell_type": "code",
   "execution_count": null,
   "id": "55a52be5",
   "metadata": {
    "pycharm": {
     "name": "#%%\n"
    }
   },
   "outputs": [],
   "source": [
    "with open('precomputed/shap_values_training.pickle', 'rb') as f:\n",
    "    shap_values = pickle.load(f)\n",
    "with open('precomputed/shap_explainer_training.pickle', 'rb') as f:\n",
    "    shap_explainer = pickle.load(f)"
   ]
  },
  {
   "cell_type": "markdown",
   "id": "8b270c21",
   "metadata": {
    "pycharm": {
     "name": "#%% md\n"
    }
   },
   "source": [
    "## Plots"
   ]
  },
  {
   "cell_type": "code",
   "execution_count": null,
   "id": "933373dd",
   "metadata": {
    "pycharm": {
     "name": "#%%\n"
    }
   },
   "outputs": [],
   "source": [
    "# visualize the first prediction's explanation\n",
    "shap.plots.force(shap_explainer.expected_value, shap_values.values[0,:], matplotlib=True)"
   ]
  },
  {
   "cell_type": "code",
   "execution_count": null,
   "id": "f2cee376",
   "metadata": {
    "pycharm": {
     "name": "#%%\n"
    }
   },
   "outputs": [],
   "source": [
    "shap_values = shap_values[:, :]"
   ]
  },
  {
   "cell_type": "code",
   "execution_count": null,
   "id": "dda79c20",
   "metadata": {
    "pycharm": {
     "name": "#%%\n"
    }
   },
   "outputs": [],
   "source": [
    "n_row, n_col = 2, 3\n",
    "\n",
    "fig = plt.figure(figsize=(13, 10))\n",
    "\n",
    "lines = []\n",
    "\n",
    "terms = [(i, x) for i, x in enumerate(explainer.gam.terms) if not x.isintercept and not x.istensor]\n",
    "terms.sort(key=lambda x: x[1].feature)\n",
    "c1, c2, c3 = sns.color_palette(n_colors=3)\n",
    "\n",
    "plot_index = 0\n",
    "axes = []\n",
    "points = []\n",
    "for i, term in enumerate(explainer.gam.terms):\n",
    "    if i == 6:\n",
    "        break\n",
    "    if term.isintercept or term.istensor:\n",
    "        continue\n",
    "    \n",
    "    ax = fig.add_subplot(n_row, n_col, plot_index + 1, sharey = axes[-1] if plot_index % n_col != 0 else None)\n",
    "    \n",
    "    # Shap scatter print\n",
    "    shap.plots.scatter(shap_values[:,term.feature], ax=ax, show=False, hist=False, color=c1)\n",
    "    shap_plot = ax\n",
    "    \n",
    "    plt.setp(ax.get_yticklabels(), visible=plot_index % n_col == 0)\n",
    "    \n",
    "    ax.set_ylabel(\"\")\n",
    "    ax.set_xlabel(\"\")\n",
    "    ax.tick_params(labelsize=18)\n",
    "    ax.set_title(feature_names_display[term.feature])\n",
    "    \n",
    "     # Compute and save the points\n",
    "    x_point = sample[0, term.feature] # col vector\n",
    "    y_point = explainer.gam.partial_dependence(term=i, X=sample)\n",
    "    \n",
    "    points.append((x_point, y_point))\n",
    "\n",
    "    plot_index +=1\n",
    "    axes.append(ax)\n",
    "    \n",
    "# Find the minimum y for each row\n",
    "min_y_rows = (axes[0].get_ylim()[0], axes[3].get_ylim()[0])\n",
    "for i in range(3):\n",
    "    min_y_rows = (min(min_y_rows[0], axes[i].get_ylim()[0]), min(min_y_rows[0], axes[i + 3].get_ylim()[0]))\n",
    "\n",
    "# Plot the points\n",
    "for i, (ax, (x_point, y_point)) in enumerate(zip(axes, points)):\n",
    "    ax.vlines(x_point, min_y_rows[i // 3], y_point, linestyle=\"dashed\", color=\"black\")\n",
    "    ax.hlines(y_point, ax.get_xlim()[0], x_point, linestyle=\"dashed\", color=\"black\")\n",
    "    sample_plot = ax.scatter(x_point, y_point, label=\"Sample under investigation\", color=\"black\", zorder=3)\n",
    "    \n",
    "\n",
    "params = {'legend.fontsize': 18,\n",
    "          'figure.figsize': (20, 5),\n",
    "          'axes.titlesize': 18}\n",
    "\n",
    "plt.rcParams.update(params)\n",
    "#plt.subplots_adjust(hspace=0.3)\n",
    "file_out = \"plots/global_shap.pdf\"\n",
    "dummy_shap_plot = Line2D([0], [0], marker='o', color=c1, label='SHAP values', lw=0)\n",
    "plt.legend(handles = [dummy_shap_plot, sample_plot], loc='upper center', bbox_to_anchor=(-1.47, 2.5), ncol=3, fontsize=14)\n",
    "plt.savefig(file_out)"
   ]
  },
  {
   "cell_type": "markdown",
   "id": "43e3890b",
   "metadata": {
    "pycharm": {
     "name": "#%% md\n"
    }
   },
   "source": [
    "## Local explanations"
   ]
  },
  {
   "cell_type": "markdown",
   "id": "ba4d557c",
   "metadata": {
    "pycharm": {
     "name": "#%% md\n"
    }
   },
   "source": [
    "### SHAP"
   ]
  },
  {
   "cell_type": "code",
   "execution_count": null,
   "id": "b5dc9fd6",
   "metadata": {
    "pycharm": {
     "name": "#%%\n"
    }
   },
   "outputs": [],
   "source": [
    "feature_names_display_local = [feature_names_display[i].replace(\"_\", \"\\_\") for i in range(len(feature_names_display))]"
   ]
  },
  {
   "cell_type": "code",
   "execution_count": null,
   "id": "89f12e49",
   "metadata": {
    "pycharm": {
     "name": "#%%\n"
    }
   },
   "outputs": [],
   "source": [
    "shap_values.feature_names = feature_names_display_local"
   ]
  },
  {
   "cell_type": "code",
   "execution_count": null,
   "outputs": [],
   "source": [
    "plt.figure()\n",
    "shap.plots.waterfall(shap_values[sample_index], max_display=7, show=False)\n",
    "plt.rcParams.update({'font.size': 14})\n",
    "plt.tight_layout()\n",
    "file_out = \"plots/local_shap.pdf\"\n",
    "plt.savefig(file_out)"
   ],
   "metadata": {
    "collapsed": false,
    "pycharm": {
     "name": "#%%\n"
    }
   }
  },
  {
   "cell_type": "markdown",
   "source": [
    "### GEF"
   ],
   "metadata": {
    "collapsed": false,
    "pycharm": {
     "name": "#%% md\n"
    }
   }
  },
  {
   "cell_type": "code",
   "execution_count": null,
   "outputs": [],
   "source": [
    "plot_local_all_terms(explainer.gam, feature_names_display, X_train.values, sample_index, range_perc = 20, figsize=(9, 15))\n",
    "file_out = \"plots/local_gef.pdf\"\n",
    "plt.savefig(file_out)"
   ],
   "metadata": {
    "collapsed": false,
    "pycharm": {
     "name": "#%%\n"
    }
   }
  },
  {
   "cell_type": "markdown",
   "source": [
    "### LIME"
   ],
   "metadata": {
    "collapsed": false,
    "pycharm": {
     "name": "#%% md\n"
    }
   }
  },
  {
   "cell_type": "code",
   "execution_count": null,
   "outputs": [],
   "source": [
    "explainer = lime.lime_tabular.LimeTabularExplainer(X_train.values, \n",
    "                                                   feature_names=feature_names_display_local, \n",
    "                                                   class_names=['critical_temp'],\n",
    "                                                   verbose=True, \n",
    "                                                   mode='regression')"
   ],
   "metadata": {
    "collapsed": false,
    "pycharm": {
     "name": "#%%\n"
    }
   }
  },
  {
   "cell_type": "code",
   "execution_count": null,
   "outputs": [],
   "source": [
    "rf = lgbm.Booster(model_file=\"precomputed/forest.lgbm\")"
   ],
   "metadata": {
    "collapsed": false,
    "pycharm": {
     "name": "#%%\n"
    }
   }
  },
  {
   "cell_type": "code",
   "execution_count": null,
   "outputs": [],
   "source": [
    "exp = explainer.explain_instance(X_train.values[sample_index], rf.predict, num_features=5)"
   ],
   "metadata": {
    "collapsed": false,
    "pycharm": {
     "name": "#%%\n"
    }
   }
  },
  {
   "cell_type": "code",
   "execution_count": null,
   "outputs": [],
   "source": [
    "# Lime has some issues with Latex, the greater and equal symbol is not shown correctly\n",
    "plt.rcParams['text.usetex'] = False"
   ],
   "metadata": {
    "collapsed": false,
    "pycharm": {
     "name": "#%%\n"
    }
   }
  },
  {
   "cell_type": "code",
   "execution_count": null,
   "outputs": [],
   "source": [
    "exp.as_pyplot_figure()\n",
    "plt.savefig(\"plots/local_lime.pdf\", bbox_inches=\"tight\")"
   ],
   "metadata": {
    "collapsed": false,
    "pycharm": {
     "name": "#%%\n"
    }
   }
  },
  {
   "cell_type": "code",
   "execution_count": null,
   "outputs": [],
   "source": [
    "exp.show_in_notebook()"
   ],
   "metadata": {
    "collapsed": false,
    "pycharm": {
     "name": "#%%\n"
    }
   }
  },
  {
   "cell_type": "code",
   "execution_count": null,
   "outputs": [],
   "source": [
    "exp.save_to_file(\"plots/local_lime_html.html\")"
   ],
   "metadata": {
    "collapsed": false,
    "pycharm": {
     "name": "#%%\n"
    }
   }
  },
  {
   "cell_type": "code",
   "execution_count": null,
   "id": "3c32c5b9",
   "metadata": {
    "pycharm": {
     "name": "#%%\n"
    }
   },
   "outputs": [],
   "source": [
    "# Lime has some issues with Latex, the greater and equal symbol is not shown correctly\n",
    "plt.rcParams['text.usetex'] = False"
   ]
  },
  {
   "cell_type": "code",
   "execution_count": null,
   "id": "82965d25",
   "metadata": {
    "pycharm": {
     "name": "#%%\n"
    }
   },
   "outputs": [],
   "source": [
    "exp.as_pyplot_figure()\n",
    "plt.savefig(\"plots/local_lime.pdf\", bbox_inches=\"tight\")"
   ]
  },
  {
   "cell_type": "code",
   "execution_count": null,
   "id": "395b2a6a",
   "metadata": {
    "pycharm": {
     "name": "#%%\n"
    }
   },
   "outputs": [],
   "source": [
    "exp.show_in_notebook()"
   ]
  },
  {
   "cell_type": "code",
   "execution_count": null,
   "id": "d44e38c1",
   "metadata": {
    "pycharm": {
     "name": "#%%\n"
    }
   },
   "outputs": [],
   "source": [
    "exp.save_to_file(\"plots/local_lime_html.html\")"
   ]
  },
  {
   "cell_type": "code",
   "execution_count": null,
   "id": "6733a048",
   "metadata": {
    "pycharm": {
     "name": "#%%\n"
    }
   },
   "outputs": [],
   "source": []
  }
 ],
 "metadata": {
  "kernelspec": {
   "display_name": "Python 3 (ipykernel)",
   "language": "python",
   "name": "python3"
  },
  "language_info": {
   "codemirror_mode": {
    "name": "ipython",
    "version": 3
   },
   "file_extension": ".py",
   "mimetype": "text/x-python",
   "name": "python",
   "nbconvert_exporter": "python",
   "pygments_lexer": "ipython3",
   "version": "3.9.12"
  }
 },
 "nbformat": 4,
 "nbformat_minor": 5
}