{
 "cells": [
  {
   "cell_type": "code",
   "execution_count": null,
   "metadata": {
    "pycharm": {
     "name": "#%%\n"
    }
   },
   "outputs": [],
   "source": [
    "import numpy as np\n",
    "import matplotlib.pyplot as plt\n",
    "from matplotlib import cm"
   ]
  },
  {
   "cell_type": "code",
   "execution_count": null,
   "metadata": {
    "pycharm": {
     "name": "#%%\n"
    }
   },
   "outputs": [],
   "source": [
    "plt.rcParams['axes.facecolor'] = 'white'"
   ]
  },
  {
   "cell_type": "code",
   "execution_count": null,
   "metadata": {
    "pycharm": {
     "name": "#%%\n"
    }
   },
   "outputs": [],
   "source": [
    "params = {\"text.usetex\" : True,\n",
    "          \"text.latex.preamble\": r\"\\usepackage{bm}\",\n",
    "          \"font.size\" : 25,\n",
    "          \"axes.labelsize\": 30,\n",
    "          'axes.labelpad': 0\n",
    "          }\n",
    "\n",
    "plt.rcParams.update(params) "
   ]
  },
  {
   "cell_type": "code",
   "execution_count": null,
   "metadata": {
    "pycharm": {
     "name": "#%%\n"
    }
   },
   "outputs": [],
   "source": [
    "fun_x = lambda x: 2 * x\n",
    "fun_y = lambda x: np.sin(x * 4)\n",
    "\n",
    "# Range\n",
    "X = np.arange(-1, 1, 0.01)\n",
    "Y = np.arange(-1, 1, 0.01)\n",
    "\n",
    "fig_size = (6, 4)"
   ]
  },
  {
   "cell_type": "code",
   "execution_count": null,
   "metadata": {
    "pycharm": {
     "name": "#%%\n"
    }
   },
   "outputs": [],
   "source": [
    "fig = plt.figure(figsize=fig_size)\n",
    "\n",
    "## First component\n",
    "plt.plot(X, fun_x(X), '-', linewidth=2, markersize=12, antialiased=True)\n",
    "plt.ylabel(r\"$s_1(x_1)$\")\n",
    "plt.xlabel(r\"$x_1$\")\n",
    "plt.savefig(\"plots/example/s1.pdf\", bbox_inches=\"tight\")"
   ]
  },
  {
   "cell_type": "code",
   "execution_count": null,
   "metadata": {
    "pycharm": {
     "name": "#%%\n"
    }
   },
   "outputs": [],
   "source": [
    "fig = plt.figure(figsize=fig_size)\n",
    "\n",
    "## Second component\n",
    "plt.plot(Y, fun_y(Y), '-', linewidth=2, markersize=12, antialiased=True)\n",
    "plt.ylabel(r\"$s_2(x_2)$\")\n",
    "plt.xlabel(r\"$x_2$\")\n",
    "plt.savefig(\"plots/example/s2.pdf\", bbox_inches=\"tight\")"
   ]
  },
  {
   "cell_type": "code",
   "execution_count": null,
   "outputs": [],
   "source": [
    "fig = plt.figure(figsize=(12, 4))\n",
    "plt.rcParams.update(plt.rcParamsDefault)\n",
    "\n",
    "tick_size = 15\n",
    "\n",
    "params = {\"text.usetex\" : True,\n",
    "          \"text.latex.preamble\": r\"\\usepackage{bm}\",\n",
    "          \"font.size\" : 10,\n",
    "          \"axes.labelsize\": tick_size + 5,\n",
    "          'axes.labelpad': 5,\n",
    "          \"xtick.labelsize\": tick_size,\n",
    "          \"ytick.labelsize\": tick_size,\n",
    "          }\n",
    "\n",
    "plt.rcParams.update(params)\n",
    "\n",
    "ax = plt.axes(projection='3d')\n",
    "\n",
    "\n",
    "ax.zaxis.set_tick_params(labelsize=tick_size)\n",
    "\n",
    "rng = np.random.default_rng(4242)\n",
    "\n",
    "X = rng.random(500) * 2 - 1\n",
    "Y = rng.random(500) * 2 - 1\n",
    "\n",
    "## Matplotlib Sample Code using 2D arrays via meshgrid\n",
    "Z = fun_x(X) + fun_y(Y)\n",
    "surf = ax.scatter(X, Y, Z, label=\"y\")\n",
    "#ax.set_zlim(-2.5, 2.5)\n",
    "#ax.locator_params(tight=True, nbins=6)\n",
    "ax.margins(0)\n",
    "ax.set_zlabel(r\"$y$\")\n",
    "ax.set_xlabel(r\"$x_1$\", labelpad=10)\n",
    "ax.set_ylabel(r\"$x_2$\", labelpad=10)\n",
    "\n",
    "fig.tight_layout()\n",
    "plt.savefig(\"plots/example/y_points.pdf\", bbox_inches=\"tight\")"
   ],
   "metadata": {
    "collapsed": false,
    "pycharm": {
     "name": "#%%\n"
    }
   }
  },
  {
   "cell_type": "code",
   "execution_count": null,
   "outputs": [],
   "source": [
    "fig = plt.figure(figsize=(12, 4))\n",
    "plt.rcParams.update(plt.rcParamsDefault)\n",
    "\n",
    "plt.rcParams.update(params)\n",
    "\n",
    "ax = plt.axes(projection='3d')\n",
    "ax.zaxis.set_tick_params(labelsize=tick_size)\n",
    "\n",
    "X = np.arange(-1, 1, 0.01)\n",
    "Y = np.arange(-1, 1, 0.01)\n",
    "\n",
    "## Matplotlib Sample Code using 2D arrays via meshgrid\n",
    "X_grid, Y_grid = np.meshgrid(X, Y)\n",
    "Z = fun_x(X_grid) + fun_y(Y_grid)\n",
    "surf = ax.plot_surface(X_grid, Y_grid, Z, cmap=cm.viridis)\n",
    "#ax.set_zlim(-2.5, 2.5)\n",
    "#ax.locator_params(tight=True, nbins=6)\n",
    "ax.margins(0)\n",
    "\n",
    "ax.zaxis.set_rotate_label(False)\n",
    "ax.set_zlabel(r\"$\\hat{y}$\")\n",
    "ax.set_xlabel(r\"$x_1$\", labelpad=10)\n",
    "ax.set_ylabel(r\"$x_2$\", labelpad=10)\n",
    "\n",
    "fig.tight_layout()\n",
    "plt.savefig(\"plots/example/y_surface.pdf\", bbox_inches=\"tight\")"
   ],
   "metadata": {
    "collapsed": false,
    "pycharm": {
     "name": "#%%\n"
    }
   }
  },
  {
   "cell_type": "code",
   "execution_count": null,
   "metadata": {
    "pycharm": {
     "name": "#%%\n"
    }
   },
   "outputs": [],
   "source": []
  }
 ],
 "metadata": {
  "kernelspec": {
   "display_name": "Python 3 (ipykernel)",
   "language": "python",
   "name": "python3"
  },
  "language_info": {
   "codemirror_mode": {
    "name": "ipython",
    "version": 3
   },
   "file_extension": ".py",
   "mimetype": "text/x-python",
   "name": "python",
   "nbconvert_exporter": "python",
   "pygments_lexer": "ipython3",
   "version": "3.9.12"
  }
 },
 "nbformat": 4,
 "nbformat_minor": 4
}