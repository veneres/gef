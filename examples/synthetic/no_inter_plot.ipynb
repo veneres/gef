{
 "cells": [
  {
   "cell_type": "code",
   "execution_count": null,
   "id": "6cbed740",
   "metadata": {
    "pycharm": {
     "name": "#%%\n"
    }
   },
   "outputs": [],
   "source": [
    "import matplotlib.pyplot as plt\n",
    "import seaborn as sns\n",
    "import numpy as np\n",
    "from sklearn.neighbors import KernelDensity\n",
    "from synthetic_fun import base_fun\n",
    "import matplotlib.patches as mpatches\n",
    "import pickle\n",
    "import pathlib\n",
    "import os\n",
    "%load_ext autoreload\n",
    "%autoreload 2"
   ]
  },
  {
   "cell_type": "code",
   "execution_count": null,
   "id": "28501181",
   "metadata": {
    "pycharm": {
     "name": "#%%\n"
    }
   },
   "outputs": [],
   "source": [
    "# matplotlib conf\n",
    "plt.rcParams['text.usetex'] = True\n",
    "plt.rcParams['text.latex.preamble'] = r'\\usepackage{bm}'\n",
    "sns.set_style(\"white\")"
   ]
  },
  {
   "cell_type": "markdown",
   "id": "c2cd20fb",
   "metadata": {
    "pycharm": {
     "name": "#%% md\n"
    }
   },
   "source": [
    "# Sampling Comparison"
   ]
  },
  {
   "cell_type": "markdown",
   "id": "3d19c8a6",
   "metadata": {
    "pycharm": {
     "name": "#%% md\n"
    }
   },
   "source": [
    "To compute the results run:\n",
    "python no_inter_forest_train.py\n",
    "python no_inter_samp_comp.py"
   ]
  },
  {
   "cell_type": "markdown",
   "id": "96beb97b",
   "metadata": {
    "pycharm": {
     "name": "#%% md\n"
    }
   },
   "source": [
    "## Setup"
   ]
  },
  {
   "cell_type": "code",
   "execution_count": null,
   "id": "ab618e76",
   "metadata": {
    "pycharm": {
     "name": "#%%\n"
    }
   },
   "outputs": [],
   "source": [
    "save_pdf = True\n",
    "if save_pdf:\n",
    "\n",
    "    file_out = \"plots/sampling_comparison.pdf\"\n",
    "    pathlib.Path(os.path.dirname(file_out)).mkdir(parents=True, exist_ok=True)\n",
    "pickle_path = \"precomputed_results/sampling_comparison.pickle\"\n",
    "with open(pickle_path, 'rb') as f:\n",
    "    sampling_comparison_results = pickle.load(f)"
   ]
  },
  {
   "cell_type": "markdown",
   "id": "01fc7e95",
   "metadata": {
    "pycharm": {
     "name": "#%% md\n"
    }
   },
   "source": [
    "## Plot"
   ]
  },
  {
   "cell_type": "code",
   "execution_count": null,
   "id": "c13c7ab1",
   "metadata": {
    "pycharm": {
     "name": "#%%\n"
    }
   },
   "outputs": [],
   "source": [
    "# Adjust plot settings and labels\n",
    "labels = [r\"\\emph{All-Thresholds}\",\n",
    "          r\"\\emph{$K$-Quantile}\",\n",
    "          r\"\\emph{Equi-Width}\",\n",
    "          r\"\\emph{$K$-Means}\",\n",
    "          \"\\emph{Equi-Size}\"]\n",
    "\n",
    "sampling_methods = [\"all\", \"quantile\", \"equal\", \"kmeans\", \"equi_size\"]\n",
    "\n",
    "# Plot positions\n",
    "pos = [(0, 0), (0, 1), (0, 2), (1, 3), (1, 4)]\n",
    "\n",
    "feat = \"x_2\"\n",
    "\n",
    "fig, axs = plt.subplots(1, 5, sharey=\"all\", tight_layout=True, figsize=(20, 5))\n",
    "\n",
    "# Real function behind the data\n",
    "fun = base_fun(2)\n",
    "\n",
    "# Points used to plot the real function\n",
    "xs = np.linspace(0, 1, 1000)\n",
    "plots_for_legend = []\n",
    "\n",
    "# Compute the KDE of the real thresholds used by the forest\n",
    "all_thresholds = sampling_comparison_results[\"all\"].get_feature_thresholds()\n",
    "kde = KernelDensity(kernel='gaussian', bandwidth=0.3)\n",
    "kde.fit(np.array(all_thresholds[feat]).reshape(-1, 1))\n",
    "y_kde_plot = kde.score_samples(np.array(all_thresholds[feat]).reshape(-1, 1))\n",
    "\n",
    "kde_offset = 1\n",
    "y_lim = [-0.2, 1.7]\n",
    "\n",
    "# Define colors\n",
    "_, rug_plot_col = sns.color_palette(n_colors=2)\n",
    "points_col = rug_plot_col\n",
    "kde_fill_col, dist_fun_color, kde_contour_col = sns.color_palette(\"Blues\", n_colors=3)\n",
    "\n",
    "# For each sampling methods plot its visualization\n",
    "for i, sampling_method in enumerate(sampling_methods):\n",
    "    row, col = pos[i]\n",
    "    ax = axs[i]\n",
    "\n",
    "    ax.set_ylim(y_lim)\n",
    "\n",
    "    ax.plot(np.array(all_thresholds[feat]), y_kde_plot + kde_offset, color=kde_contour_col)\n",
    "    ax.fill_between(np.array(all_thresholds[feat]), y_kde_plot + kde_offset, y2=0, color=kde_fill_col)\n",
    "\n",
    "    sampling_results = np.array(sampling_comparison_results[sampling_method].sampled[feat])\n",
    "\n",
    "    points_y = fun(sampling_results)\n",
    "    linewidth = 0.05 if sampling_method == \"all\" else 1\n",
    "    sns.rugplot(x=sampling_results, ax=ax, color=rug_plot_col, height=0.07, linewidth=linewidth)\n",
    "\n",
    "    sampled_ax = ax.scatter(sampling_results, points_y, color=points_col, marker=\"o\", s=10)\n",
    "\n",
    "    # function and points\n",
    "    ys = fun(xs)\n",
    "    original_dist = ax.plot(xs, ys, color=dist_fun_color, marker=None)\n",
    "\n",
    "    ax.set_title(labels[i])\n",
    "\n",
    "# Update legend\n",
    "blue_patch = mpatches.Patch(color=dist_fun_color, label='Original thresholds distribution')\n",
    "orange_patch = mpatches.Patch(color=points_col, label='Sampled thresholds distribution')\n",
    "plt.figlegend(handles=[blue_patch, orange_patch], bbox_to_anchor=(0.8, 0.05), ncol=2, facecolor='white', framealpha=1)\n",
    "\n",
    "# Update font sizes\n",
    "params = {'legend.fontsize': 25,\n",
    "          'figure.figsize': (20, 5),\n",
    "          'axes.titlesize': 30,\n",
    "          'xtick.labelsize': 18,\n",
    "          'ytick.labelsize': 20}\n",
    "plt.rcParams.update(params)\n",
    "\n",
    "# Save figure if needed\n",
    "if save_pdf:\n",
    "    fig.savefig(file_out, bbox_inches=\"tight\")"
   ]
  },
  {
   "cell_type": "markdown",
   "id": "f39a478b",
   "metadata": {
    "pycharm": {
     "name": "#%% md\n"
    }
   },
   "source": [
    "# Sampling strategies comparison"
   ]
  },
  {
   "cell_type": "markdown",
   "id": "1d29354d",
   "metadata": {
    "pycharm": {
     "name": "#%% md\n"
    }
   },
   "source": [
    "To compute the results run:\n",
    "```\n",
    "python no_inter_forest_train.py\n",
    "\n",
    "python no_inter_samp_comp_var.py\n",
    "```"
   ]
  },
  {
   "cell_type": "markdown",
   "id": "1f0e9295",
   "metadata": {
    "pycharm": {
     "name": "#%% md\n"
    }
   },
   "source": [
    "## Setup"
   ]
  },
  {
   "cell_type": "code",
   "execution_count": null,
   "id": "1160fbc0",
   "metadata": {
    "pycharm": {
     "name": "#%%\n"
    }
   },
   "outputs": [],
   "source": [
    "PRECOMPUTED_PATH = \"precomputed_results/sampling_comparison_var.pickle\"\n",
    "with open(PRECOMPUTED_PATH, 'rb') as f:\n",
    "    acc_methods = pickle.load(f)\n",
    "sampling_methods = [\"all\", \"quantile\", \"equal\", \"kmeans\", \"equi_size\"]\n",
    "range_m = range(500, 20001, 750)\n",
    "save_pdf = True\n",
    "if save_pdf:\n",
    "    file_out = \"plots/rmse_sampling_comparison.pdf\"\n",
    "    pathlib.Path(os.path.dirname(file_out)).mkdir(parents=True, exist_ok=True)"
   ]
  },
  {
   "cell_type": "markdown",
   "id": "1c7e3367",
   "metadata": {
    "pycharm": {
     "name": "#%% md\n"
    }
   },
   "source": [
    "## Plot"
   ]
  },
  {
   "cell_type": "code",
   "execution_count": null,
   "id": "a0865cda",
   "metadata": {
    "pycharm": {
     "name": "#%%\n"
    }
   },
   "outputs": [],
   "source": [
    "labels_dict = {\"all\": r\"\\emph{All-Thresholds}\",\n",
    "               \"quantile\": r\"\\emph{$K$-Quantile}\",\n",
    "               \"equal\": r\"\\emph{Equi-Width}\",\n",
    "               \"kmeans\": r\"\\emph{$K$-Means}\",\n",
    "               \"equi_size\": r\"\\emph{Equi-Size}\"}\n",
    "markers = [\"o\", \"s\", \"*\", \"x\", \"D\"]\n",
    "colors = sns.color_palette(n_colors=len(sampling_methods))\n",
    "for i, sampling_method in enumerate(sampling_methods):\n",
    "    plt.plot(range_m,\n",
    "             acc_methods[sampling_method],\n",
    "             f'{markers[i]}--',\n",
    "             mfc='none',\n",
    "             mec=colors[i],\n",
    "             ms=11,\n",
    "             label=labels_dict[sampling_method])\n",
    "plt.xlabel(\"$K$\")\n",
    "plt.ylabel(\"RMSE\")\n",
    "\n",
    "plt.legend(loc='upper center', bbox_to_anchor=(0.5, -0.15), ncol=3, fancybox=False, shadow=False, facecolor='white')\n",
    "params = {'legend.fontsize': 32,\n",
    "          'figure.figsize': (15, 10),\n",
    "          'axes.labelsize': 32,\n",
    "          'xtick.labelsize': 32,\n",
    "          'ytick.labelsize': 20}\n",
    "plt.rcParams.update(params)\n",
    "plt.tight_layout()\n",
    "\n",
    "plt.grid(visible=True)\n",
    "\n",
    "file_out = \"plots/rmse_sampling_comparison.pdf\"\n",
    "plt.savefig(file_out)"
   ]
  },
  {
   "cell_type": "markdown",
   "id": "8a6ea8e0",
   "metadata": {
    "pycharm": {
     "name": "#%% md\n"
    }
   },
   "source": [
    "## Splines reconstructions"
   ]
  },
  {
   "cell_type": "markdown",
   "id": "ebd56c9a",
   "metadata": {
    "pycharm": {
     "name": "#%% md\n"
    }
   },
   "source": [
    "To compute the results run:\n",
    "python no_inter_forest_train.py\n",
    "python no_inter_final_explain.py"
   ]
  },
  {
   "cell_type": "markdown",
   "id": "b703a9b0",
   "metadata": {
    "pycharm": {
     "name": "#%% md\n"
    }
   },
   "source": [
    "## Setup"
   ]
  },
  {
   "cell_type": "code",
   "execution_count": null,
   "id": "f2d8816c",
   "metadata": {
    "pycharm": {
     "name": "#%%\n"
    }
   },
   "outputs": [],
   "source": [
    "PRECOMPUTED_PATH = \"precomputed_results/no_inter_explainer.pickle\"\n",
    "with open(PRECOMPUTED_PATH, 'rb') as f:\n",
    "    explainer = pickle.load(f)\n",
    "save_pdf = True\n",
    "file_out = None\n",
    "if save_pdf:\n",
    "    file_out = \"plots/generators.pdf\"\n",
    "    pathlib.Path(os.path.dirname(file_out)).mkdir(parents=True, exist_ok=True)"
   ]
  },
  {
   "cell_type": "markdown",
   "id": "e3abb1a2",
   "metadata": {
    "pycharm": {
     "name": "#%% md\n"
    }
   },
   "source": [
    "## Plot"
   ]
  },
  {
   "cell_type": "code",
   "execution_count": null,
   "id": "03c58821",
   "metadata": {
    "pycharm": {
     "name": "#%%\n"
    }
   },
   "outputs": [],
   "source": [
    "n_row, n_col = 1, 5\n",
    "texts = [r\"$\\bm{x}_1$\",\n",
    "         r\"$\\sin\\left(20\\bm{x}_2\\right)$\",\n",
    "         r\"$\\frac{\\exp\\left(50(\\bm{x}_3 -0.5)\\right)}{\\exp\\left(50(\\bm{x}_3 -0.5)\\right) + 1}$\",\n",
    "         r\"$\\frac{\\arctan\\left(10\\bm{x}_4\\right)- \\sin\\left(10\\bm{x}_4\\right)}{2}$\",\n",
    "         r\"$\\frac{2}{\\bm{x}_5 +1}$\"]\n",
    "\n",
    "font_sizes = [30, 30, 40, 40, 40]\n",
    "if not plt.rcParams['text.usetex']:\n",
    "    texts = [\"First spline\", \"Second spline\", \"Third spline\", \"Fourth spline\", \"Fifth spline\"]\n",
    "\n",
    "fig = plt.figure(figsize=(30, 6))\n",
    "\n",
    "terms = [(i, x) for i, x in enumerate(explainer.gam.terms) if not x.isintercept and not x.istensor]\n",
    "terms.sort(key=lambda x: x[1].feature)\n",
    "\n",
    "axes = fig.subplots(n_row, n_col, sharey=True)\n",
    "\n",
    "for i, ax in enumerate(axes):\n",
    "    term = explainer.gam.terms[i]\n",
    "\n",
    "    c1, c2 = sns.color_palette(\"Blues\", 2)\n",
    "\n",
    "    # Spline print\n",
    "    grid = explainer.gam.generate_X_grid(term=i)\n",
    "    pdep, confi = explainer.gam.partial_dependence(term=i, X=grid, width=0.95)\n",
    "    #print(pdep)\n",
    "    centered_pdep = pdep - np.average(pdep)\n",
    "    l1 = ax.plot(grid[:, term.feature], centered_pdep, label=\"Spline learned\", lw=3)\n",
    "\n",
    "    # Generating function print\n",
    "    real_fun_aux = base_fun(term.feature)(grid[:, term.feature])\n",
    "    real_fun_centered = real_fun_aux - np.average(real_fun_aux)\n",
    "    l2 = ax.plot(grid[:, term.feature], real_fun_centered, label=\"Generating function\", ls='--', lw=3)\n",
    "\n",
    "    ax.set_title(texts[term.feature], loc='center', fontsize=font_sizes[term.feature])\n",
    "\n",
    "axes[0].legend(bbox_to_anchor=(3.9, -0.1), ncol=2, facecolor='white')\n",
    "\n",
    "params = {'xtick.labelsize': 28,\n",
    "          'ytick.labelsize': 28,\n",
    "          'legend.fontsize': 30,\n",
    "          'axes.titley': 1,\n",
    "          'axes.titlepad': 26,\n",
    "          'axes.labelsize': 32}\n",
    "plt.rcParams.update(params)\n",
    "plt.subplots_adjust(hspace=0.3)\n",
    "if save_pdf:\n",
    "    fig.savefig(file_out, bbox_inches=\"tight\")"
   ]
  },
  {
   "cell_type": "code",
   "execution_count": null,
   "id": "bf716f26",
   "metadata": {
    "pycharm": {
     "name": "#%%\n"
    }
   },
   "outputs": [],
   "source": []
  }
 ],
 "metadata": {
  "kernelspec": {
   "display_name": "Python 3 (ipykernel)",
   "language": "python",
   "name": "python3"
  },
  "language_info": {
   "codemirror_mode": {
    "name": "ipython",
    "version": 3
   },
   "file_extension": ".py",
   "mimetype": "text/x-python",
   "name": "python",
   "nbconvert_exporter": "python",
   "pygments_lexer": "ipython3",
   "version": "3.9.12"
  }
 },
 "nbformat": 4,
 "nbformat_minor": 5
}