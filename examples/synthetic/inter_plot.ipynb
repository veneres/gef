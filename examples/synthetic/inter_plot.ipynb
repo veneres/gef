{
 "cells": [
  {
   "cell_type": "code",
   "execution_count": null,
   "metadata": {
    "pycharm": {
     "name": "#%%\n"
    }
   },
   "outputs": [],
   "source": [
    "import seaborn as sns\n",
    "import pandas as pd\n",
    "import matplotlib.pyplot as plt\n",
    "import pickle\n",
    "from scipy import stats"
   ]
  },
  {
   "cell_type": "markdown",
   "metadata": {
    "pycharm": {
     "name": "#%% md\n"
    }
   },
   "source": [
    "# Matplotlib settings"
   ]
  },
  {
   "cell_type": "code",
   "execution_count": null,
   "metadata": {
    "pycharm": {
     "name": "#%%\n"
    }
   },
   "outputs": [],
   "source": [
    "plt.rcParams['text.usetex'] = True\n",
    "sns.set_style(\"white\")"
   ]
  },
  {
   "cell_type": "markdown",
   "metadata": {
    "pycharm": {
     "name": "#%% md\n"
    }
   },
   "source": [
    "# Interaction detection accuracy comparison"
   ]
  },
  {
   "cell_type": "markdown",
   "metadata": {
    "pycharm": {
     "name": "#%% md\n"
    }
   },
   "source": [
    "To compute the results run:\n",
    "python inter_acc_comparison.py"
   ]
  },
  {
   "cell_type": "markdown",
   "metadata": {
    "pycharm": {
     "name": "#%% md\n"
    }
   },
   "source": [
    "## Setup"
   ]
  },
  {
   "cell_type": "code",
   "execution_count": null,
   "metadata": {
    "pycharm": {
     "name": "#%%\n"
    }
   },
   "outputs": [],
   "source": [
    "with open(\"precomputed_results/inter_strategies_bench.pickle\", \"rb\") as f:\n",
    "    dict_res = pickle.load(f)"
   ]
  },
  {
   "cell_type": "code",
   "execution_count": null,
   "metadata": {
    "pycharm": {
     "name": "#%%\n"
    }
   },
   "outputs": [],
   "source": [
    "df_res = pd.DataFrame.from_dict(dict_res[\"map\"])\n",
    "sorted_df = df_res.copy()\n",
    "col_label = {\n",
    "             \"h_stat\": r\"\\emph{H-Stat}\",\n",
    "             \"count_path\": r\"\\emph{Count-Path}\",\n",
    "             \"pair_gain\": r\"\\emph{Pair-Gain}\",\n",
    "             \"gain_path\": r\"\\emph{Gain-Path}\"\n",
    "}\n",
    "\n",
    "for col in [\"h_stat\", \"count_path\", \"pair_gain\", \"gain_path\"]:\n",
    "    sorted_df[col_label[col]] = sorted(sorted_df[col].to_list(), reverse=True)\n",
    "to_be_displayed = sorted_df.copy()\n",
    "for col in [\"h_stat\", \"count_path\", \"pair_gain\", \"gain_path\"]:\n",
    "    to_be_displayed = to_be_displayed.drop(col, axis=1)"
   ]
  },
  {
   "cell_type": "markdown",
   "metadata": {
    "pycharm": {
     "name": "#%% md\n"
    }
   },
   "source": [
    "## Plot"
   ]
  },
  {
   "cell_type": "code",
   "execution_count": null,
   "metadata": {
    "pycharm": {
     "name": "#%%\n"
    }
   },
   "outputs": [],
   "source": [
    "plt.figure(figsize=(15, 10))\n",
    "params = {'legend.fontsize': 24,\n",
    "          'figure.figsize': (10, 5),\n",
    "          'axes.labelsize': 30,\n",
    "          'axes.titlesize': 30,\n",
    "          'xtick.labelsize': 30,\n",
    "          'ytick.labelsize': 30}\n",
    "plt.rcParams.update(params)\n",
    "ax =sns.lineplot(data=to_be_displayed, lw=4)\n",
    "ax.set(xlabel='Interaction set sorted by MAP', ylabel='MAP')\n",
    "plt.grid(visible=True)\n",
    "\n",
    "plt.savefig(\"plots/interactions_detection.pdf\", bbox_inches=\"tight\")"
   ]
  },
  {
   "cell_type": "code",
   "execution_count": null,
   "metadata": {
    "pycharm": {
     "name": "#%%\n"
    }
   },
   "outputs": [],
   "source": [
    "sorted_df.describe()"
   ]
  },
  {
   "cell_type": "markdown",
   "metadata": {
    "pycharm": {
     "name": "#%% md\n"
    }
   },
   "source": [
    "## Stat analysis"
   ]
  },
  {
   "cell_type": "code",
   "execution_count": null,
   "metadata": {
    "pycharm": {
     "name": "#%%\n"
    }
   },
   "outputs": [],
   "source": [
    "import itertools\n",
    "for col1, col2 in itertools.combinations(sorted_df.columns, 2):\n",
    "    p_value = stats.ttest_ind(sorted_df[col1].to_numpy(), sorted_df[col2].to_numpy(), equal_var=False)[1]\n",
    "    print(f\"p-value between {col1} and {col2}: {p_value}\")\n",
    "    if p_value <= 0.05:\n",
    "        print(f\"Different means between {col1} and {col2}\")"
   ]
  },
  {
   "cell_type": "code",
   "execution_count": null,
   "metadata": {
    "pycharm": {
     "name": "#%%\n"
    }
   },
   "outputs": [],
   "source": []
  }
 ],
 "metadata": {
  "kernelspec": {
   "display_name": "Python 3 (ipykernel)",
   "language": "python",
   "name": "python3"
  },
  "language_info": {
   "codemirror_mode": {
    "name": "ipython",
    "version": 3
   },
   "file_extension": ".py",
   "mimetype": "text/x-python",
   "name": "python",
   "nbconvert_exporter": "python",
   "pygments_lexer": "ipython3",
   "version": "3.9.12"
  }
 },
 "nbformat": 4,
 "nbformat_minor": 4
}