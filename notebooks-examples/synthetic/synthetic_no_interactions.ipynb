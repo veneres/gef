{
 "cells": [
  {
   "cell_type": "code",
   "execution_count": null,
   "id": "6cbed740",
   "metadata": {},
   "outputs": [],
   "source": [
    "import lightgbm as lgbm\n",
    "import matplotlib.pyplot as plt\n",
    "import seaborn as sns\n",
    "from gamexplainer.datasets import dataset_from_fun\n",
    "from sklearn.model_selection import train_test_split\n",
    "from gamexplainer import GamExplainer\n",
    "import numpy as np\n",
    "from tqdm import tqdm\n",
    "from sklearn.model_selection import GridSearchCV\n",
    "from sklearn.neighbors import KernelDensity\n",
    "from synthetic_fun import fun_without_interaction, base_fun\n",
    "from sklearn.metrics import mean_squared_error, r2_score\n",
    "from collections import defaultdict\n",
    "%load_ext autoreload\n",
    "%autoreload 2"
   ]
  },
  {
   "cell_type": "code",
   "execution_count": null,
   "id": "28501181",
   "metadata": {},
   "outputs": [],
   "source": [
    "# matplotlib conf\n",
    "plt.rcParams['text.usetex'] = True\n",
    "plt.rcParams['text.latex.preamble'] = r'\\usepackage{bm}'"
   ]
  },
  {
   "cell_type": "markdown",
   "id": "4c262279",
   "metadata": {},
   "source": [
    "## Create dataset"
   ]
  },
  {
   "cell_type": "code",
   "execution_count": null,
   "id": "c4c2ae82",
   "metadata": {},
   "outputs": [],
   "source": [
    "noise_gen = np.random.default_rng(seed=42)"
   ]
  },
  {
   "cell_type": "code",
   "execution_count": null,
   "id": "d55f80f1",
   "metadata": {},
   "outputs": [],
   "source": [
    "synth_df = dataset_from_fun(n_sample=10000, n_features=5, fun=fun_without_interaction, random_state=42, rnd_gen=noise_gen)\n",
    "X_train, X_test, y_train, y_test = train_test_split(synth_df.drop(\"y\", axis=1), synth_df[\"y\"], test_size=0.2, shuffle=False)\n",
    "X_train, X_val, y_train, y_val = train_test_split(X_train, y_train, test_size=0.25, shuffle=False)\n",
    "train_data = lgbm.Dataset(X_train, label=y_train)\n",
    "val_data = lgbm.Dataset(X_val, label=y_val, reference=train_data)\n",
    "test_data = lgbm.Dataset(X_test, label=y_test)"
   ]
  },
  {
   "cell_type": "markdown",
   "id": "5e53de22",
   "metadata": {},
   "source": [
    "## Grid search to find the best regressor"
   ]
  },
  {
   "cell_type": "code",
   "id": "ff3535d2",
   "metadata": {
    "pycharm": {
     "name": "#%%\n"
    }
   },
   "source": [
    "parameters = {\n",
    "    \"n_estimators\": np.geomspace(10, 1000, num=3, dtype=int),\n",
    "    \"num_leaves\": np.geomspace(32, 256, num=4, dtype=int),\n",
    "    \"learning_rate\": np.geomspace(1e-4, 1e-1, num=4)\n",
    "}\n",
    "CV_regressor = GridSearchCV(lgbm.LGBMRegressor(), parameters, verbose=3, scoring=\"neg_root_mean_squared_error\")\n",
    "CV_regressor.fit(X_train, y_train, early_stopping_rounds=50, eval_set=[(X_val.values, y_val.values)])\n",
    "print(CV_regressor.best_params_)"
   ],
   "execution_count": null,
   "outputs": []
  },
  {
   "cell_type": "markdown",
   "id": "46a1cdf0",
   "metadata": {},
   "source": [
    "The results are\n",
    "- n_estimators = 1000\n",
    "- num_leaves = 32\n",
    "- learning_rate = 0.1"
   ]
  },
  {
   "cell_type": "code",
   "execution_count": null,
   "id": "3b3e85fd",
   "metadata": {},
   "outputs": [],
   "source": [
    "# Train it without fine-tuning to save time\n",
    "forest = lgbm.LGBMRegressor(n_estimators=1000, num_leaves=32, learning_rate=0.1)\n",
    "forest.fit(X_train, y_train, early_stopping_rounds=50, eval_set=[(X_val.values, y_val.values)])"
   ]
  },
  {
   "cell_type": "markdown",
   "source": [],
   "metadata": {
    "collapsed": false,
    "pycharm": {
     "name": "#%% md\n"
    }
   }
  },
  {
   "cell_type": "markdown",
   "source": [
    "## RMSE prediction over the test set"
   ],
   "metadata": {
    "collapsed": false
   }
  },
  {
   "cell_type": "code",
   "execution_count": null,
   "outputs": [],
   "source": [
    "mean_squared_error(y_test, forest.predict(X_test), squared=False)"
   ],
   "metadata": {
    "collapsed": false,
    "pycharm": {
     "name": "#%%\n"
    }
   }
  },
  {
   "cell_type": "code",
   "execution_count": null,
   "outputs": [],
   "source": [
    "r2_score(y_test, forest.predict(X_test))"
   ],
   "metadata": {
    "collapsed": false,
    "pycharm": {
     "name": "#%%\n"
    }
   }
  },
  {
   "cell_type": "markdown",
   "id": "96beb97b",
   "metadata": {},
   "source": [
    "## Modify this to choose to save the file or not "
   ]
  },
  {
   "cell_type": "code",
   "execution_count": null,
   "id": "ab618e76",
   "metadata": {},
   "outputs": [],
   "source": [
    "save_pdf = True\n",
    "file_out = None\n",
    "if save_pdf:\n",
    "    import pathlib\n",
    "    import os\n",
    "\n",
    "    file_out = \"plots/sampling_comparison.pdf\"\n",
    "    pathlib.Path(os.path.dirname(file_out)).mkdir(parents=True, exist_ok=True)"
   ]
  },
  {
   "cell_type": "code",
   "execution_count": null,
   "id": "40c9d6f8",
   "metadata": {},
   "outputs": [],
   "source": [
    "sampling_methods = [\"all\", \"quantile\", \"equal\", \"kmeans\", \"equi_size\"]\n",
    "results = {}\n",
    "for i, sampling_method in tqdm(enumerate(sampling_methods)):\n",
    "    explainer = GamExplainer(sample_method=sampling_method,\n",
    "                             n_spline_terms=5,\n",
    "                             n_inter_terms=0,\n",
    "                             sample_n=75)\n",
    "    gam = explainer.explain(forest, lam_search_space=[0.1, 0.5, 1])\n",
    "    results[sampling_method] = explainer"
   ]
  },
  {
   "cell_type": "markdown",
   "id": "50fd10a6",
   "metadata": {
    "pycharm": {
     "name": "#%% md\n"
    }
   },
   "source": [
    "## Sampling comparison"
   ]
  },
  {
   "cell_type": "code",
   "execution_count": null,
   "id": "ee1bf105",
   "metadata": {
    "pycharm": {
     "name": "#%%\n"
    }
   },
   "outputs": [],
   "source": [
    "import matplotlib.patches as mpatches"
   ]
  },
  {
   "cell_type": "code",
   "execution_count": null,
   "id": "c13c7ab1",
   "metadata": {
    "pycharm": {
     "name": "#%%\n"
    }
   },
   "outputs": [],
   "source": [
    "labels = [r\"\\emph{All-Thresholds}\", r\"\\emph{$K$-Quantile}\", r\"\\emph{Equi-Width}\", r\"\\emph{$K$-Means}\",\n",
    "          \"\\emph{Equi-Size}\"]\n",
    "\n",
    "pos = [(0, 0), (0, 1), (0, 2), (1, 3), (1, 4)]  # plot positions\n",
    "feat = \"x_2\"\n",
    "\n",
    "fig, axs = plt.subplots(1, 5, sharey=\"all\", tight_layout=True, figsize=(20, 5))\n",
    "\n",
    "# Real function behind the data\n",
    "fun = lambda x: np.exp((x - 0.5) * 50) / (np.exp((x - 0.5) * 50) + 1)\n",
    "\n",
    "xs = np.linspace(0, 1, 1000)\n",
    "plots_for_legend = []\n",
    "\n",
    "all_thresholds = results[\"all\"].get_feature_thresholds()\n",
    "kde = KernelDensity(kernel='gaussian', bandwidth=0.2)\n",
    "kde.fit(np.array(all_thresholds[feat]).reshape(-1, 1))\n",
    "y_kde_plot = kde.score_samples(np.array(all_thresholds[feat]).reshape(-1, 1))\n",
    "\n",
    "kde_offset = 1\n",
    "y_lim = [-0.2, 1.7]\n",
    "\n",
    "_, rug_plot_col = sns.color_palette(n_colors=2)\n",
    "points_col = rug_plot_col\n",
    "kde_fill_col, dist_fun_color, kde_contour_col = sns.color_palette(\"Blues\", n_colors=3)\n",
    "\n",
    "for i, sampling_method in enumerate(sampling_methods):\n",
    "    row, col = pos[i]\n",
    "    ax = axs[i]\n",
    "\n",
    "    ax.set_ylim(y_lim)\n",
    "\n",
    "    ax.plot(np.array(all_thresholds[feat]), y_kde_plot + kde_offset, color=kde_contour_col)\n",
    "    ax.fill_between(np.array(all_thresholds[feat]), y_kde_plot + kde_offset, y2=0, color=kde_fill_col)\n",
    "    \n",
    "    sampling_results = np.array(results[sampling_method].sampled[feat])\n",
    "   \n",
    "    points_y = fun(sampling_results)\n",
    "    sns.rugplot(x=sampling_results, ax=ax, color=rug_plot_col, height=0.07, linewidth = 1)\n",
    "    \n",
    "    sampled_ax = ax.scatter(sampling_results, points_y, color=points_col, marker=\"o\", s=10)\n",
    "\n",
    "    # function and points\n",
    "    ys = fun(xs)\n",
    "    original_dist = ax.plot(xs, ys, color=dist_fun_color, marker=None)\n",
    "\n",
    "    ax.set_title(labels[i])\n",
    "\n",
    "blue_patch = mpatches.Patch(color=dist_fun_color, label='Original thresholds distribution')\n",
    "orange_patch = mpatches.Patch(color=points_col, label='Sampled thresholds distribution')\n",
    "plt.figlegend(handles=[blue_patch, orange_patch], bbox_to_anchor=(0.8, 0.05), ncol=2)\n",
    "params = {'legend.fontsize': 25,\n",
    "          'figure.figsize': (20, 5),\n",
    "          'axes.titlesize': 30,\n",
    "          'xtick.labelsize': 18,\n",
    "          'ytick.labelsize': 20}\n",
    "plt.rcParams.update(params)\n",
    "plt.show()\n",
    "if save_pdf:\n",
    "    fig.savefig(file_out, bbox_inches=\"tight\")"
   ]
  },
  {
   "cell_type": "markdown",
   "source": [
    "## Sampling strategies comparison"
   ],
   "metadata": {
    "collapsed": false,
    "pycharm": {
     "name": "#%% md\n"
    }
   }
  },
  {
   "cell_type": "code",
   "execution_count": null,
   "outputs": [],
   "source": [
    "PRECOMPUTED_PATH = \"precomputed_results/sampling_comparison_synthetic.pickle\""
   ],
   "metadata": {
    "collapsed": false,
    "pycharm": {
     "name": "#%%\n"
    }
   }
  },
  {
   "cell_type": "markdown",
   "source": [
    "### Import the results if available"
   ],
   "metadata": {
    "collapsed": false,
    "pycharm": {
     "name": "#%% md\n"
    }
   }
  },
  {
   "cell_type": "code",
   "execution_count": null,
   "outputs": [],
   "source": [
    "import pickle\n",
    "\n",
    "with open(PRECOMPUTED_PATH, 'rb') as f:\n",
    "    acc_methods = pickle.load(f)"
   ],
   "metadata": {
    "collapsed": false,
    "pycharm": {
     "name": "#%%\n"
    }
   }
  },
  {
   "cell_type": "code",
   "execution_count": null,
   "outputs": [],
   "source": [
    "sampling_methods = [\"all\", \"quantile\", \"equal\", \"kmeans\", \"equi_size\"]\n",
    "range_m = range(100, 2500, 100)"
   ],
   "metadata": {
    "collapsed": false,
    "pycharm": {
     "name": "#%%\n"
    }
   }
  },
  {
   "cell_type": "markdown",
   "source": [
    "### Compute the results if not available"
   ],
   "metadata": {
    "collapsed": false
   }
  },
  {
   "cell_type": "code",
   "execution_count": null,
   "outputs": [],
   "source": [
    "explanation_params = {\"verbose\": False,\n",
    "                      \"feat_importance_method\": \"gain\",\n",
    "                      \"n_spline_terms\": 5,\n",
    "                      }\n",
    "acc_methods = defaultdict(list)\n",
    "for m in tqdm(range_m):\n",
    "    explanation_params[\"sample_n\"] = m\n",
    "    for sampling_method in sampling_methods:\n",
    "        explanation_params[\"sample_method\"] = sampling_method\n",
    "        explainer = GamExplainer(**explanation_params)\n",
    "        gam = explainer.explain(forest, lam_search_space=[0.01, 1])\n",
    "        acc_methods[sampling_method].append(explainer.loss_res)"
   ],
   "metadata": {
    "collapsed": false,
    "pycharm": {
     "name": "#%%\n",
     "is_executing": true
    }
   }
  },
  {
   "cell_type": "markdown",
   "source": [
    "#### Save the results to avoid repeating computations"
   ],
   "metadata": {
    "collapsed": false
   }
  },
  {
   "cell_type": "code",
   "execution_count": null,
   "outputs": [],
   "source": [
    "import pickle\n",
    "\n",
    "with open(PRECOMPUTED_PATH, 'wb') as f:\n",
    "    pickle.dump(acc_methods, f)"
   ],
   "metadata": {
    "collapsed": false,
    "pycharm": {
     "name": "#%%\n"
    }
   }
  },
  {
   "cell_type": "markdown",
   "source": [
    "### Plot the results"
   ],
   "metadata": {
    "collapsed": false,
    "pycharm": {
     "name": "#%% md\n"
    }
   },
   "execution_count": 13
  },
  {
   "cell_type": "code",
   "execution_count": null,
   "outputs": [],
   "source": [
    "labels = [r\"\\emph{All-Thresholds}\", r\"\\emph{$K$-Quantile}\", r\"\\emph{Equi-Width}\", r\"\\emph{$K$-Means}\",\n",
    "          r\"\\emph{Equi-Size}\"]\n",
    "markers = [\"o\", \"s\", \"*\", \"x\", \"D\"]\n",
    "colors = sns.color_palette(n_colors=len(sampling_methods))\n",
    "for i, sampling_method in enumerate(sampling_methods):\n",
    "    plt.plot(range_m, acc_methods[sampling_method], f'{markers[i]}--', mfc='none', mec=colors[i], ms=11,\n",
    "             label=labels[i])\n",
    "plt.xlabel(\"$K$\")\n",
    "plt.ylabel(\"RMSE\")\n",
    "file_out = \"plots/rmse_sampling_comparison.pdf\"\n",
    "\n",
    "plt.legend(loc='upper center', bbox_to_anchor=(0.5, -0.15), ncol=3, fancybox=False, shadow=False)\n",
    "params = {'legend.fontsize': 32,\n",
    "          'figure.figsize': (15, 10),\n",
    "          'axes.labelsize': 32,\n",
    "          'xtick.labelsize': 32,\n",
    "          'ytick.labelsize': 20}\n",
    "plt.rcParams.update(params)\n",
    "plt.tight_layout()\n",
    "plt.savefig(file_out)"
   ],
   "metadata": {
    "collapsed": false,
    "pycharm": {
     "name": "#%%\n"
    }
   }
  },
  {
   "cell_type": "markdown",
   "source": [
    "## Splines reconstructions"
   ],
   "metadata": {
    "collapsed": false,
    "pycharm": {
     "name": "#%% md\n"
    }
   }
  },
  {
   "cell_type": "code",
   "execution_count": null,
   "outputs": [],
   "source": [
    "explanation_params = {\"n_spline_terms\": 5,\n",
    "                      \"sample_method\": \"equi_size\",\n",
    "                      \"sample_n\": 1200,\n",
    "                      \"verbose\": True,\n",
    "                      \"n_inter_terms\": 0}\n",
    "\n",
    "explainer = GamExplainer(**explanation_params)\n",
    "explainer.explain(forest, lam_search_space=[0.01, 0.05, 0.1, 1])"
   ],
   "metadata": {
    "collapsed": false,
    "pycharm": {
     "name": "#%%\n"
    }
   }
  },
  {
   "cell_type": "code",
   "execution_count": null,
   "outputs": [],
   "source": [
    "save_pdf = True\n",
    "file_out = None\n",
    "if save_pdf:\n",
    "    import pathlib\n",
    "    import os\n",
    "\n",
    "    file_out = \"plots/generators.pdf\"\n",
    "    pathlib.Path(os.path.dirname(file_out)).mkdir(parents=True, exist_ok=True)"
   ],
   "metadata": {
    "collapsed": false,
    "pycharm": {
     "name": "#%%\n"
    }
   }
  },
  {
   "cell_type": "code",
   "execution_count": null,
   "outputs": [],
   "source": [
    "n_row, n_col = 1, 5\n",
    "texts = [r\"$\\bm{x}_1$\",\n",
    "         r\"$\\sin\\left(20\\bm{x}_2\\right)$\",\n",
    "         r\"$\\frac{\\exp\\left(50(\\bm{x}_3 -0.5)\\right)}{\\exp\\left(50(\\bm{x}_3 -0.5)\\right) + 1}$\",\n",
    "         r\"$\\frac{\\arctan\\left(10\\bm{x}_4\\right)- \\sin\\left(10\\bm{x}_4\\right)}{2}$\",\n",
    "         r\"$\\frac{2}{\\bm{x}_5 +1}$\"]\n",
    "\n",
    "font_sizes = [30, 30, 40, 40, 40]\n",
    "if not plt.rcParams['text.usetex']:\n",
    "    texts = [\"First spline\", \"Second spline\", \"Third spline\", \"Fourth spline\", \"Fifth spline\"]\n",
    "\n",
    "fig = plt.figure(figsize=(30, 6))\n",
    "\n",
    "terms = [(i, x) for i, x in enumerate(explainer.gam.terms) if not x.isintercept and not x.istensor]\n",
    "terms.sort(key=lambda x: x[1].feature)\n",
    "\n",
    "axes = fig.subplots(n_row, n_col, sharey=True)\n",
    "\n",
    "for i, ax in enumerate(axes):\n",
    "\n",
    "    term = explainer.gam.terms[i]\n",
    "\n",
    "    c1, c2 = sns.color_palette(\"Blues\", 2)\n",
    "\n",
    "    # Spline print\n",
    "    grid = explainer.gam.generate_X_grid(term=i)\n",
    "    pdep, confi = explainer.gam.partial_dependence(term=i, X=grid, width=0.95)\n",
    "    #print(pdep)\n",
    "    centered_pdep = pdep - np.average(pdep)\n",
    "    l1 = ax.plot(grid[:, term.feature], centered_pdep, label=\"Spline learned\", lw=3)\n",
    "\n",
    "    # Generating function print\n",
    "    real_fun_aux = base_fun(term.feature)(grid[:, term.feature])\n",
    "    real_fun_centered = real_fun_aux - np.average(real_fun_aux)\n",
    "    l2 = ax.plot(grid[:, term.feature], real_fun_centered, label=\"Generating function\", ls='--', lw=3)\n",
    "\n",
    "    ax.set_title(texts[term.feature], loc='center', fontsize=font_sizes[term.feature])\n",
    "\n",
    "axes[0].legend(bbox_to_anchor=(3.9, -0.1), ncol=2)\n",
    "\n",
    "\n",
    "params = {'xtick.labelsize': 28,\n",
    "          'ytick.labelsize': 28,\n",
    "          'legend.fontsize': 30,\n",
    "          'axes.titley': 1,\n",
    "          'axes.titlepad': 26,\n",
    "          'axes.labelsize': 32}\n",
    "plt.rcParams.update(params)\n",
    "plt.subplots_adjust(hspace=0.3)\n",
    "if save_pdf:\n",
    "    fig.savefig(file_out, bbox_inches=\"tight\")"
   ],
   "metadata": {
    "collapsed": false,
    "pycharm": {
     "name": "#%%\n"
    }
   }
  },
  {
   "cell_type": "markdown",
   "source": [
    "## RMSE prediction GAM vs true value of test set and versus prediction made on the test by the forest"
   ],
   "metadata": {
    "collapsed": false,
    "pycharm": {
     "name": "#%% md\n"
    }
   }
  },
  {
   "cell_type": "code",
   "execution_count": null,
   "outputs": [],
   "source": [
    "mean_squared_error(y_test, explainer.gam.predict(X_test), squared=False)"
   ],
   "metadata": {
    "collapsed": false,
    "pycharm": {
     "name": "#%%\n"
    }
   }
  },
  {
   "cell_type": "code",
   "execution_count": null,
   "outputs": [],
   "source": [
    "mean_squared_error(forest.predict(X_test), explainer.gam.predict(X_test), squared=False)"
   ],
   "metadata": {
    "collapsed": false,
    "pycharm": {
     "name": "#%%\n"
    }
   }
  },
  {
   "cell_type": "code",
   "execution_count": null,
   "outputs": [],
   "source": [
    "r2_score(y_test, explainer.gam.predict(X_test))"
   ],
   "metadata": {
    "collapsed": false,
    "pycharm": {
     "name": "#%%\n"
    }
   }
  },
  {
   "cell_type": "code",
   "execution_count": null,
   "outputs": [],
   "source": [
    "r2_score(forest.predict(X_test), explainer.gam.predict(X_test))"
   ],
   "metadata": {
    "collapsed": false,
    "pycharm": {
     "name": "#%%\n"
    }
   }
  }
 ],
 "metadata": {
  "kernelspec": {
   "display_name": "Python 3 (ipykernel)",
   "language": "python",
   "name": "python3"
  },
  "language_info": {
   "codemirror_mode": {
    "name": "ipython",
    "version": 3
   },
   "file_extension": ".py",
   "mimetype": "text/x-python",
   "name": "python",
   "nbconvert_exporter": "python",
   "pygments_lexer": "ipython3",
   "version": "3.9.7"
  }
 },
 "nbformat": 4,
 "nbformat_minor": 5
}