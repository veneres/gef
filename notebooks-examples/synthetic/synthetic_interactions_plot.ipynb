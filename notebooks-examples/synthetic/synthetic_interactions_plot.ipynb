{
 "cells": [
  {
   "cell_type": "code",
   "execution_count": null,
   "metadata": {},
   "outputs": [],
   "source": [
    "import seaborn as sns\n",
    "import pandas as pd\n",
    "import matplotlib.pyplot as plt\n",
    "import lightgbm as lgbm\n",
    "from gamexplainer.datasets import dataset_from_fun\n",
    "from sklearn.model_selection import train_test_split\n",
    "from gamexplainer import GamExplainer\n",
    "from synthetic_fun import fun_interaction\n",
    "from sklearn.metrics import mean_squared_error, r2_score\n",
    "import numpy as np\n",
    "from numpy.random import default_rng\n",
    "import pickle"
   ]
  },
  {
   "cell_type": "code",
   "execution_count": null,
   "outputs": [],
   "source": [
    "plt.rcParams['text.usetex'] = True"
   ],
   "metadata": {
    "collapsed": false,
    "pycharm": {
     "name": "#%%\n"
    }
   }
  },
  {
   "cell_type": "markdown",
   "source": [
    "# First run synth_inter_benchmark.py to compute the results in precomputed_results/inter_strategies_bench.pickle"
   ],
   "metadata": {
    "collapsed": false,
    "pycharm": {
     "name": "#%% md\n"
    }
   }
  },
  {
   "cell_type": "code",
   "execution_count": null,
   "metadata": {},
   "outputs": [],
   "source": [
    "with open(\"precomputed_results/inter_strategies_bench.pickle\", \"rb\") as f:\n",
    "    dict_res = pickle.load(f)"
   ]
  },
  {
   "cell_type": "code",
   "execution_count": null,
   "metadata": {},
   "outputs": [],
   "source": [
    "df_res = pd.DataFrame.from_dict(dict_res[\"map\"])"
   ]
  },
  {
   "cell_type": "code",
   "execution_count": null,
   "metadata": {},
   "outputs": [],
   "source": [
    "sorted_df = df_res.copy()"
   ]
  },
  {
   "cell_type": "code",
   "execution_count": null,
   "metadata": {},
   "outputs": [],
   "source": [
    "col_label = {\n",
    "             \"h_stat\": r\"\\emph{H-Stat}\",\n",
    "             \"count_path\": r\"\\emph{Count-Path}\",\n",
    "             \"pair_gain\": r\"\\emph{Pair-Gain}\",\n",
    "             \"gain_path\": r\"\\emph{Gain-Path}\"\n",
    "}\n",
    "\n",
    "for col in [\"h_stat\", \"count_path\", \"pair_gain\", \"gain_path\"]:\n",
    "    sorted_df[col_label[col]] = sorted(sorted_df[col].to_list(), reverse=True)\n",
    "\n",
    "to_be_displayed = sorted_df.copy()\n",
    "for col in [\"h_stat\", \"count_path\", \"pair_gain\", \"gain_path\"]:\n",
    "    to_be_displayed = to_be_displayed.drop(col, axis=1)"
   ]
  },
  {
   "cell_type": "code",
   "execution_count": null,
   "metadata": {
    "pycharm": {
     "name": "#%%\n"
    }
   },
   "outputs": [],
   "source": [
    "plt.figure(figsize=(15, 10))\n",
    "params = {'legend.fontsize': 24,\n",
    "          'figure.figsize': (10, 5),\n",
    "          'axes.labelsize': 30,\n",
    "          'axes.titlesize': 30,\n",
    "          'xtick.labelsize': 30,\n",
    "          'ytick.labelsize': 30}\n",
    "plt.rcParams.update(params)\n",
    "ax =sns.lineplot(data=to_be_displayed, lw=4)\n",
    "ax.set(xlabel='Interaction set sorted by MAP', ylabel='MAP')\n",
    "\n",
    "plt.savefig(\"plots/interactions_detection.pdf\", bbox_inches=\"tight\")"
   ]
  },
  {
   "cell_type": "code",
   "execution_count": null,
   "outputs": [],
   "source": [
    "print(sorted_df.describe().to_latex())"
   ],
   "metadata": {
    "collapsed": false,
    "pycharm": {
     "name": "#%%\n"
    }
   }
  },
  {
   "cell_type": "code",
   "execution_count": null,
   "outputs": [],
   "source": [
    "from scipy import stats\n",
    "\n",
    "stats.ttest_ind(sorted_df[\"count_path\"].to_numpy(), sorted_df[\"gain_path\"].to_numpy(), equal_var=False)"
   ],
   "metadata": {
    "collapsed": false,
    "pycharm": {
     "name": "#%%\n"
    }
   }
  },
  {
   "cell_type": "code",
   "execution_count": null,
   "outputs": [],
   "source": [
    "import itertools\n",
    "for col1, col2 in itertools.combinations(sorted_df.columns, 2):\n",
    "    p_value = stats.ttest_ind(sorted_df[col1].to_numpy(), sorted_df[col2].to_numpy(), equal_var=False)[1]\n",
    "    if p_value <= 0.05:\n",
    "        print(f\"Different means between {col1} and {col2}\")"
   ],
   "metadata": {
    "collapsed": false,
    "pycharm": {
     "name": "#%%\n",
     "is_executing": true
    }
   }
  },
  {
   "cell_type": "markdown",
   "source": [
    "## Difference in prediction"
   ],
   "metadata": {
    "collapsed": false,
    "pycharm": {
     "name": "#%% md\n"
    }
   }
  },
  {
   "cell_type": "code",
   "execution_count": null,
   "outputs": [],
   "source": [
    "noise_gen = np.random.default_rng(seed=42)\n",
    "synth_df = dataset_from_fun(n_sample=100000,\n",
    "                        n_features=5,\n",
    "                        fun=fun_interaction,\n",
    "                        random_state=42,\n",
    "                        rnd_gen=noise_gen,\n",
    "                        real_interactions=((0, 1), (0, 4), (1, 4)))\n",
    "\n",
    "X_train, X_test, y_train, y_test = train_test_split(synth_df.drop(\"y\", axis=1),\n",
    "                                                synth_df[\"y\"],\n",
    "                                                test_size=0.2,\n",
    "                                                shuffle=False)\n",
    "\n",
    "X_train, X_val, y_train, y_val = train_test_split(X_train, y_train, test_size=0.25, shuffle=False)\n",
    "\n",
    "forest = lgbm.LGBMRegressor(n_estimators=1000, num_leaves=32, learning_rate=0.1, n_jobs=10)\n",
    "forest.fit(X_train, y_train)"
   ],
   "metadata": {
    "collapsed": false,
    "pycharm": {
     "name": "#%%\n"
    }
   }
  },
  {
   "cell_type": "code",
   "execution_count": null,
   "outputs": [],
   "source": [
    "mean_squared_error(y_test, forest.predict(X_test))"
   ],
   "metadata": {
    "collapsed": false,
    "pycharm": {
     "name": "#%%\n"
    }
   }
  },
  {
   "cell_type": "code",
   "execution_count": null,
   "outputs": [],
   "source": [
    "r2_score(y_test, forest.predict(X_test))"
   ],
   "metadata": {
    "collapsed": false,
    "pycharm": {
     "name": "#%%\n"
    }
   }
  },
  {
   "cell_type": "code",
   "execution_count": null,
   "outputs": [],
   "source": [
    "explanation_params = {\"n_spline_terms\": 5,\n",
    "                      \"sample_method\": \"equi_size\",\n",
    "                      \"sample_n\": 1200,\n",
    "                      \"inter_max_distance\": 32,\n",
    "                      \"verbose\": True,\n",
    "                      \"n_inter_terms\": 3}\n",
    "\n",
    "explainer = GamExplainer(**explanation_params)\n",
    "explainer.explain(forest, lam_search_space=[0.01, 0.05, 0.1, 1])"
   ],
   "metadata": {
    "collapsed": false,
    "pycharm": {
     "name": "#%%\n"
    }
   }
  },
  {
   "cell_type": "code",
   "execution_count": null,
   "outputs": [],
   "source": [
    "mean_squared_error(y_test, explainer.gam.predict(X_test))"
   ],
   "metadata": {
    "collapsed": false,
    "pycharm": {
     "name": "#%%\n"
    }
   }
  },
  {
   "cell_type": "code",
   "execution_count": null,
   "outputs": [],
   "source": [
    "mean_squared_error(forest.predict(X_test), explainer.gam.predict(X_test))"
   ],
   "metadata": {
    "collapsed": false,
    "pycharm": {
     "name": "#%%\n"
    }
   }
  },
  {
   "cell_type": "code",
   "execution_count": null,
   "outputs": [],
   "source": [
    "r2_score(y_test, explainer.gam.predict(X_test))"
   ],
   "metadata": {
    "collapsed": false,
    "pycharm": {
     "name": "#%%\n"
    }
   }
  },
  {
   "cell_type": "code",
   "execution_count": null,
   "outputs": [],
   "source": [
    "r2_score(forest.predict(X_test), explainer.gam.predict(X_test))"
   ],
   "metadata": {
    "collapsed": false,
    "pycharm": {
     "name": "#%%\n"
    }
   }
  }
 ],
 "metadata": {
  "kernelspec": {
   "name": "python3",
   "language": "python",
   "display_name": "Python 3 (ipykernel)"
  },
  "language_info": {
   "codemirror_mode": {
    "name": "ipython",
    "version": 3
   },
   "file_extension": ".py",
   "mimetype": "text/x-python",
   "name": "python",
   "nbconvert_exporter": "python",
   "pygments_lexer": "ipython3",
   "version": "3.8.9"
  }
 },
 "nbformat": 4,
 "nbformat_minor": 4
}